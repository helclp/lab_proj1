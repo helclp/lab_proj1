{
 "cells": [
  {
   "cell_type": "code",
   "execution_count": 1,
   "id": "61606708",
   "metadata": {},
   "outputs": [],
   "source": [
    "import matplotlib.pyplot as plt\n",
    "import seaborn as sns\n",
    "import pandas as pd\n",
    "\n",
    "\n",
    "import pandas as pd\n",
    "import os\n",
    "# cell border experimental code: \n",
    "\n",
    "import pandas as pd\n",
    "import numpy as np\n",
    "from scipy.spatial import ConvexHull\n"
   ]
  },
  {
   "cell_type": "code",
   "execution_count": null,
   "id": "bd16d9a5",
   "metadata": {},
   "outputs": [],
   "source": [
    "df1 = pd.read_csv()"
   ]
  },
  {
   "cell_type": "code",
   "execution_count": 3,
   "id": "d5276f5a",
   "metadata": {},
   "outputs": [],
   "source": [
    "# # test case position data for cd3 \n",
    "\n",
    "# cd3_position = pd.read_csv('edge_test/tumor edge test CD3 position_Selection.csv' , skiprows=3)\n",
    "# cd3_position.drop(columns=['Unit', 'Category',\n",
    "#        'Collection', 'Time', 'CC3 catchall', 'CC3 real', 'CD103',\n",
    "#        'CD103+ cDC1', 'CD3','CD177','CD3-CD68', 'CD3-CD68+CD206', 'CD4',\n",
    "#        'CD45',  'Unnamed: 18'], inplace=True)\n",
    "\n",
    "# cd3_distance = pd.read_csv('edge_test/tumor edge test_CD3 distance to tumor edge_Selection.csv' , skiprows=3)\n",
    "# cd3_distance.drop(columns=['Category', 'Surfaces', 'Time',\n",
    "#        'CC3 catchall', 'CC3 real', 'CD103', 'CD103+ cDC1', 'CD177', 'CD3',\n",
    "#        'CD3-CD68', 'CD3-CD68+CD206', 'Unit','CD4', 'CD45', 'Unnamed: 16'], inplace=True)\n",
    "\n",
    "# # cd3_position.head()\n",
    "# cd3_final = cd3_position.merge(cd3_distance, on=[\"ID\"], how='left').sort_values(by=['ID'], ascending=True)\n",
    "# cd3_final =  cd3_final[['ID','Position X', 'Position Y', 'Position Z',\n",
    "#        'Shortest Distance to Surfaces']].set_index('ID')\n",
    "# cd3_final.head()"
   ]
  },
  {
   "cell_type": "code",
   "execution_count": 6,
   "id": "6bf80c72",
   "metadata": {},
   "outputs": [
    {
     "name": "stderr",
     "output_type": "stream",
     "text": [
      "/var/folders/bv/7wzy33ls6ln4ydwr6s8vwq8h0000gn/T/ipykernel_66185/4266110926.py:3: DtypeWarning: Columns (8,9,10,11,12,13,14,15) have mixed types. Specify dtype option on import or set low_memory=False.\n",
      "  dapi2_position = pd.read_csv('edge_test/tumor edge test DAPI position_Selection.csv' , skiprows=3)\n"
     ]
    },
    {
     "data": {
      "application/vnd.microsoft.datawrangler.viewer.v0+json": {
       "columns": [
        {
         "name": "ID",
         "rawType": "int64",
         "type": "integer"
        },
        {
         "name": "Position X",
         "rawType": "float64",
         "type": "float"
        },
        {
         "name": "Position Y",
         "rawType": "float64",
         "type": "float"
        },
        {
         "name": "Position Z",
         "rawType": "float64",
         "type": "float"
        },
        {
         "name": "Shortest Distance to Surfaces",
         "rawType": "float64",
         "type": "float"
        }
       ],
       "ref": "23491c27-dab0-4b42-a524-93373b4b40ca",
       "rows": [
        [
         "0",
         "87286.352",
         "39678.461",
         "2.373",
         "256.589"
        ],
        [
         "1",
         "87253.484",
         "39703.367",
         "6.589",
         "279.778"
        ],
        [
         "2",
         "87024.227",
         "39933.77",
         "6.702",
         "174.885"
        ],
        [
         "3",
         "86896.992",
         "40064.652",
         "5.901",
         "55.385"
        ],
        [
         "4",
         "87015.5",
         "39945.977",
         "5.861",
         "164.362"
        ]
       ],
       "shape": {
        "columns": 4,
        "rows": 5
       }
      },
      "text/html": [
       "<div>\n",
       "<style scoped>\n",
       "    .dataframe tbody tr th:only-of-type {\n",
       "        vertical-align: middle;\n",
       "    }\n",
       "\n",
       "    .dataframe tbody tr th {\n",
       "        vertical-align: top;\n",
       "    }\n",
       "\n",
       "    .dataframe thead th {\n",
       "        text-align: right;\n",
       "    }\n",
       "</style>\n",
       "<table border=\"1\" class=\"dataframe\">\n",
       "  <thead>\n",
       "    <tr style=\"text-align: right;\">\n",
       "      <th></th>\n",
       "      <th>Position X</th>\n",
       "      <th>Position Y</th>\n",
       "      <th>Position Z</th>\n",
       "      <th>Shortest Distance to Surfaces</th>\n",
       "    </tr>\n",
       "    <tr>\n",
       "      <th>ID</th>\n",
       "      <th></th>\n",
       "      <th></th>\n",
       "      <th></th>\n",
       "      <th></th>\n",
       "    </tr>\n",
       "  </thead>\n",
       "  <tbody>\n",
       "    <tr>\n",
       "      <th>0</th>\n",
       "      <td>87286.352</td>\n",
       "      <td>39678.461</td>\n",
       "      <td>2.373</td>\n",
       "      <td>256.589</td>\n",
       "    </tr>\n",
       "    <tr>\n",
       "      <th>1</th>\n",
       "      <td>87253.484</td>\n",
       "      <td>39703.367</td>\n",
       "      <td>6.589</td>\n",
       "      <td>279.778</td>\n",
       "    </tr>\n",
       "    <tr>\n",
       "      <th>2</th>\n",
       "      <td>87024.227</td>\n",
       "      <td>39933.770</td>\n",
       "      <td>6.702</td>\n",
       "      <td>174.885</td>\n",
       "    </tr>\n",
       "    <tr>\n",
       "      <th>3</th>\n",
       "      <td>86896.992</td>\n",
       "      <td>40064.652</td>\n",
       "      <td>5.901</td>\n",
       "      <td>55.385</td>\n",
       "    </tr>\n",
       "    <tr>\n",
       "      <th>4</th>\n",
       "      <td>87015.500</td>\n",
       "      <td>39945.977</td>\n",
       "      <td>5.861</td>\n",
       "      <td>164.362</td>\n",
       "    </tr>\n",
       "  </tbody>\n",
       "</table>\n",
       "</div>"
      ],
      "text/plain": [
       "    Position X  Position Y  Position Z  Shortest Distance to Surfaces\n",
       "ID                                                                   \n",
       "0    87286.352   39678.461       2.373                        256.589\n",
       "1    87253.484   39703.367       6.589                        279.778\n",
       "2    87024.227   39933.770       6.702                        174.885\n",
       "3    86896.992   40064.652       5.901                         55.385\n",
       "4    87015.500   39945.977       5.861                        164.362"
      ]
     },
     "execution_count": 6,
     "metadata": {},
     "output_type": "execute_result"
    }
   ],
   "source": [
    "# Test case position data for dapi \n",
    "\n",
    "dapi2_position = pd.read_csv('edge_test/tumor edge test DAPI position_Selection.csv' , skiprows=3)\n",
    "dapi2_position.drop(columns=['Unit', 'Category',\n",
    "       'Collection', 'Time', 'CC3 catchall', 'CC3 real', 'CD103',\n",
    "       'CD103+ cDC1', 'CD3','CD177','CD3-CD68', 'CD3-CD68+CD206', 'CD4',\n",
    "       'CD45',  'Unnamed: 18'], inplace=True)\n",
    "\n",
    "dapi2_distance = pd.read_csv('edge_test/tumor edge test_DAPI distance to tumor edge_Selection.csv' , skiprows=3)\n",
    "dapi2_distance.drop(columns=['Category', 'Surfaces', 'Time',\n",
    "       'CC3 catchall', 'CC3 real', 'CD103', 'CD103+ cDC1', 'CD177', 'CD3',\n",
    "       'CD3-CD68', 'CD3-CD68+CD206', 'Unit','CD4', 'CD45', 'Unnamed: 16'], inplace=True)\n",
    "\n",
    "# cd3_position.head()\n",
    "dapi2_final = dapi2_position.merge(dapi2_distance, on=[\"ID\"], how='left').sort_values(by=['ID'], ascending=True)\n",
    "dapi2_final =  dapi2_final[['ID','Position X', 'Position Y', 'Position Z',\n",
    "       'Shortest Distance to Surfaces']].set_index('ID')\n",
    "dapi2_final.head()"
   ]
  },
  {
   "cell_type": "code",
   "execution_count": 10,
   "id": "aac10278",
   "metadata": {},
   "outputs": [
    {
     "data": {
      "application/vnd.microsoft.datawrangler.viewer.v0+json": {
       "columns": [
        {
         "name": "ID",
         "rawType": "int64",
         "type": "integer"
        },
        {
         "name": "Position X",
         "rawType": "float64",
         "type": "float"
        },
        {
         "name": "Position Y",
         "rawType": "float64",
         "type": "float"
        },
        {
         "name": "Position Z",
         "rawType": "float64",
         "type": "float"
        },
        {
         "name": "Shortest Distance to Surfaces",
         "rawType": "float64",
         "type": "float"
        },
        {
         "name": "dist_to_hull",
         "rawType": "float64",
         "type": "float"
        }
       ],
       "ref": "4b909acc-1268-4dbe-a68d-d6898f5976c7",
       "rows": [
        [
         "0",
         "87286.352",
         "39678.461",
         "2.373",
         "256.589",
         "344.3038286263981"
        ],
        [
         "1",
         "87253.484",
         "39703.367",
         "6.589",
         "279.778",
         "344.72835023279026"
        ],
        [
         "2",
         "87024.227",
         "39933.77",
         "6.702",
         "174.885",
         "227.46908396512052"
        ],
        [
         "3",
         "86896.992",
         "40064.652",
         "5.901",
         "55.385",
         "106.86952624155083"
        ],
        [
         "4",
         "87015.5",
         "39945.977",
         "5.861",
         "164.362",
         "216.58374112827673"
        ],
        [
         "5",
         "86804.281",
         "40160.148",
         "5.513",
         "0.789",
         "3.6627029508436464"
        ],
        [
         "6",
         "87381.523",
         "39581.574",
         "2.148",
         "218.062",
         "361.9991361469104"
        ],
        [
         "7",
         "86917.547",
         "40046.57",
         "5.331",
         "72.494",
         "124.87163706077132"
        ],
        [
         "8",
         "87072.422",
         "39886.09",
         "4.536",
         "216.64",
         "268.0391566562018"
        ],
        [
         "9",
         "87367.484",
         "39595.422",
         "4.103",
         "224.179",
         "359.7387013581106"
        ],
        [
         "10",
         "87103.094",
         "39857.492",
         "4.888",
         "243.029",
         "292.1290155822194"
        ],
        [
         "11",
         "86826.555",
         "40136.082",
         "5.771",
         "0.795",
         "30.201211961926063"
        ],
        [
         "12",
         "87319.078",
         "39643.547",
         "2.453",
         "244.915",
         "351.64737849023135"
        ],
        [
         "13",
         "87189.93",
         "39773.934",
         "3.843",
         "272.068",
         "319.42109072671474"
        ],
        [
         "14",
         "87092.398",
         "39870.5",
         "4.758",
         "229.751",
         "280.7221657483158"
        ],
        [
         "15",
         "87149.453",
         "39817.48",
         "3.871",
         "256.562",
         "304.48127035952166"
        ],
        [
         "16",
         "86938.273",
         "40021.738",
         "6.093",
         "97.118",
         "149.62303359432266"
        ],
        [
         "17",
         "87264.18",
         "39699.695",
         "1.446",
         "270.205",
         "341.2351685425555"
        ],
        [
         "18",
         "87274.219",
         "39691.078",
         "3.832",
         "263.66",
         "341.83898452088323"
        ],
        [
         "19",
         "87167.289",
         "39798.301",
         "5.18",
         "264.543",
         "311.05655774647767"
        ],
        [
         "20",
         "87098.539",
         "39866.188",
         "4.104",
         "234.337",
         "284.1451040966373"
        ],
        [
         "21",
         "87067.141",
         "39897.441",
         "2.333",
         "205.241",
         "257.525892081692"
        ],
        [
         "22",
         "87254.789",
         "39706.824",
         "1.033",
         "277.596",
         "341.11207361267253"
        ],
        [
         "23",
         "87207.062",
         "39759.258",
         "3.504",
         "276.801",
         "322.5788479610792"
        ],
        [
         "24",
         "87198.547",
         "39767.492",
         "3.908",
         "274.988",
         "320.21717976079856"
        ],
        [
         "25",
         "87138.477",
         "39825.551",
         "5.445",
         "256.118",
         "303.5806897271606"
        ],
        [
         "26",
         "86885.258",
         "40076.539",
         "6.751",
         "45.423",
         "95.02814345120363"
        ],
        [
         "27",
         "87293.836",
         "39671.324",
         "3.326",
         "255.988",
         "345.31569760896156"
        ],
        [
         "28",
         "87218.227",
         "39749.199",
         "3.923",
         "277.395",
         "325.05372527960907"
        ],
        [
         "29",
         "87315.781",
         "39652.219",
         "3.653",
         "243.304",
         "346.8470971483893"
        ],
        [
         "30",
         "86959.0",
         "40004.836",
         "5.583",
         "110.873",
         "166.08822480272786"
        ],
        [
         "31",
         "87056.383",
         "39908.887",
         "2.554",
         "196.655",
         "247.6746453668451"
        ],
        [
         "32",
         "87259.359",
         "39706.152",
         "5.502",
         "271.594",
         "339.11852683595254"
        ],
        [
         "33",
         "87155.539",
         "39809.43",
         "6.21",
         "261.757",
         "307.99428171177055"
        ],
        [
         "34",
         "87074.648",
         "39892.188",
         "1.955",
         "210.211",
         "261.69224200733186"
        ],
        [
         "35",
         "87242.375",
         "39724.883",
         "0.879",
         "274.516",
         "332.5647087863133"
        ],
        [
         "36",
         "87010.523",
         "39961.891",
         "3.634",
         "145.743",
         "201.5091993966591"
        ],
        [
         "37",
         "87032.797",
         "39935.809",
         "3.252",
         "171.851",
         "224.26650566663454"
        ],
        [
         "39",
         "87298.992",
         "39671.758",
         "3.945",
         "249.754",
         "341.7976713717847"
        ],
        [
         "42",
         "86911.102",
         "40055.105",
         "4.439",
         "66.67",
         "116.3617078030893"
        ],
        [
         "43",
         "86847.367",
         "40122.527",
         "6.286",
         "2.28",
         "46.129506119481555"
        ],
        [
         "44",
         "87119.914",
         "39849.734",
         "5.061",
         "245.205",
         "293.17788277861615"
        ],
        [
         "45",
         "86930.055",
         "40038.109",
         "6.214",
         "81.682",
         "133.28404253145348"
        ],
        [
         "46",
         "87103.281",
         "39863.52",
         "5.094",
         "237.13",
         "286.13291775984027"
        ],
        [
         "47",
         "87256.727",
         "39713.379",
         "1.549",
         "271.09",
         "334.54361147436634"
        ],
        [
         "48",
         "87352.133",
         "39620.0",
         "1.912",
         "228.154",
         "349.83403987114616"
        ],
        [
         "49",
         "87359.625",
         "39611.676",
         "2.152",
         "224.271",
         "351.77602612709484"
        ],
        [
         "50",
         "87050.625",
         "39924.07",
         "6.395",
         "180.765",
         "233.43192259118436"
        ],
        [
         "51",
         "87357.195",
         "39614.75",
         "6.417",
         "222.964",
         "350.85142303604204"
        ],
        [
         "52",
         "87336.609",
         "39638.473",
         "3.851",
         "230.269",
         "344.84509040156496"
        ]
       ],
       "shape": {
        "columns": 5,
        "rows": 58733
       }
      },
      "text/html": [
       "<div>\n",
       "<style scoped>\n",
       "    .dataframe tbody tr th:only-of-type {\n",
       "        vertical-align: middle;\n",
       "    }\n",
       "\n",
       "    .dataframe tbody tr th {\n",
       "        vertical-align: top;\n",
       "    }\n",
       "\n",
       "    .dataframe thead th {\n",
       "        text-align: right;\n",
       "    }\n",
       "</style>\n",
       "<table border=\"1\" class=\"dataframe\">\n",
       "  <thead>\n",
       "    <tr style=\"text-align: right;\">\n",
       "      <th></th>\n",
       "      <th>Position X</th>\n",
       "      <th>Position Y</th>\n",
       "      <th>Position Z</th>\n",
       "      <th>Shortest Distance to Surfaces</th>\n",
       "      <th>dist_to_hull</th>\n",
       "    </tr>\n",
       "    <tr>\n",
       "      <th>ID</th>\n",
       "      <th></th>\n",
       "      <th></th>\n",
       "      <th></th>\n",
       "      <th></th>\n",
       "      <th></th>\n",
       "    </tr>\n",
       "  </thead>\n",
       "  <tbody>\n",
       "    <tr>\n",
       "      <th>0</th>\n",
       "      <td>87286.352</td>\n",
       "      <td>39678.461</td>\n",
       "      <td>2.373</td>\n",
       "      <td>256.589</td>\n",
       "      <td>344.303829</td>\n",
       "    </tr>\n",
       "    <tr>\n",
       "      <th>1</th>\n",
       "      <td>87253.484</td>\n",
       "      <td>39703.367</td>\n",
       "      <td>6.589</td>\n",
       "      <td>279.778</td>\n",
       "      <td>344.728350</td>\n",
       "    </tr>\n",
       "    <tr>\n",
       "      <th>2</th>\n",
       "      <td>87024.227</td>\n",
       "      <td>39933.770</td>\n",
       "      <td>6.702</td>\n",
       "      <td>174.885</td>\n",
       "      <td>227.469084</td>\n",
       "    </tr>\n",
       "    <tr>\n",
       "      <th>3</th>\n",
       "      <td>86896.992</td>\n",
       "      <td>40064.652</td>\n",
       "      <td>5.901</td>\n",
       "      <td>55.385</td>\n",
       "      <td>106.869526</td>\n",
       "    </tr>\n",
       "    <tr>\n",
       "      <th>4</th>\n",
       "      <td>87015.500</td>\n",
       "      <td>39945.977</td>\n",
       "      <td>5.861</td>\n",
       "      <td>164.362</td>\n",
       "      <td>216.583741</td>\n",
       "    </tr>\n",
       "    <tr>\n",
       "      <th>...</th>\n",
       "      <td>...</td>\n",
       "      <td>...</td>\n",
       "      <td>...</td>\n",
       "      <td>...</td>\n",
       "      <td>...</td>\n",
       "    </tr>\n",
       "    <tr>\n",
       "      <th>62183</th>\n",
       "      <td>87404.539</td>\n",
       "      <td>36997.043</td>\n",
       "      <td>2.713</td>\n",
       "      <td>40.845</td>\n",
       "      <td>83.511607</td>\n",
       "    </tr>\n",
       "    <tr>\n",
       "      <th>62184</th>\n",
       "      <td>87410.164</td>\n",
       "      <td>37034.875</td>\n",
       "      <td>0.963</td>\n",
       "      <td>78.880</td>\n",
       "      <td>121.603161</td>\n",
       "    </tr>\n",
       "    <tr>\n",
       "      <th>62185</th>\n",
       "      <td>87404.609</td>\n",
       "      <td>37051.000</td>\n",
       "      <td>5.010</td>\n",
       "      <td>93.720</td>\n",
       "      <td>137.361276</td>\n",
       "    </tr>\n",
       "    <tr>\n",
       "      <th>62186</th>\n",
       "      <td>87403.703</td>\n",
       "      <td>37072.109</td>\n",
       "      <td>1.761</td>\n",
       "      <td>114.664</td>\n",
       "      <td>158.368221</td>\n",
       "    </tr>\n",
       "    <tr>\n",
       "      <th>62187</th>\n",
       "      <td>87405.422</td>\n",
       "      <td>36913.301</td>\n",
       "      <td>2.960</td>\n",
       "      <td>0.000</td>\n",
       "      <td>0.000000</td>\n",
       "    </tr>\n",
       "  </tbody>\n",
       "</table>\n",
       "<p>58733 rows × 5 columns</p>\n",
       "</div>"
      ],
      "text/plain": [
       "       Position X  Position Y  Position Z  Shortest Distance to Surfaces  \\\n",
       "ID                                                                         \n",
       "0       87286.352   39678.461       2.373                        256.589   \n",
       "1       87253.484   39703.367       6.589                        279.778   \n",
       "2       87024.227   39933.770       6.702                        174.885   \n",
       "3       86896.992   40064.652       5.901                         55.385   \n",
       "4       87015.500   39945.977       5.861                        164.362   \n",
       "...           ...         ...         ...                            ...   \n",
       "62183   87404.539   36997.043       2.713                         40.845   \n",
       "62184   87410.164   37034.875       0.963                         78.880   \n",
       "62185   87404.609   37051.000       5.010                         93.720   \n",
       "62186   87403.703   37072.109       1.761                        114.664   \n",
       "62187   87405.422   36913.301       2.960                          0.000   \n",
       "\n",
       "       dist_to_hull  \n",
       "ID                   \n",
       "0        344.303829  \n",
       "1        344.728350  \n",
       "2        227.469084  \n",
       "3        106.869526  \n",
       "4        216.583741  \n",
       "...             ...  \n",
       "62183     83.511607  \n",
       "62184    121.603161  \n",
       "62185    137.361276  \n",
       "62186    158.368221  \n",
       "62187      0.000000  \n",
       "\n",
       "[58733 rows x 5 columns]"
      ]
     },
     "execution_count": 10,
     "metadata": {},
     "output_type": "execute_result"
    }
   ],
   "source": [
    "\n",
    "# 1) Load your data\n",
    "df =  dapi2_final # columns “x” and “y”\n",
    "pts = df[['Position X', 'Position Y']].values             # shape (N,2) array\n",
    "\n",
    "# 2) Compute the convex hull\n",
    "hull = ConvexHull(pts)\n",
    "\n",
    "# hull.simplices is an (E,2) array of index pairs (i, j)\n",
    "# each representing an edge between pts[i] and pts[j].\n",
    "edges = hull.simplices\n",
    "\n",
    "# 3) Define a vectorized distance‐to‐segment function\n",
    "def point_to_segment_distances(points, seg_start, seg_end):\n",
    "    \"\"\"\n",
    "    points: (N,2) array\n",
    "    seg_start, seg_end: each (2,) array\n",
    "    returns: (N,) array of distances from each point to the segment\n",
    "    \"\"\"\n",
    "    v = seg_end - seg_start                      # (2,)\n",
    "    w = points - seg_start                       # (N,2)\n",
    "    # projection factor of each point onto the infinite line\n",
    "    t = np.einsum('ij,j->i', w, v) / np.dot(v, v)\n",
    "    # clamp to [0,1] so we “snap” to the segment\n",
    "    t_clamped = np.clip(t, 0.0, 1.0)             # (N,)\n",
    "    proj = seg_start + t_clamped[:,None] * v     # (N,2)\n",
    "    # euclidean distance from each point to its projection\n",
    "    return np.linalg.norm(points - proj, axis=1)\n",
    "\n",
    "# 4) Loop over edges, keep the minimum distance per point\n",
    "all_dists = np.full(len(pts), np.inf)\n",
    "for i, j in edges:\n",
    "    start, end = pts[i], pts[j]\n",
    "    d = point_to_segment_distances(pts, start, end)\n",
    "    all_dists = np.minimum(all_dists, d)\n",
    "\n",
    "# 5) Attach back to your DataFrame\n",
    "df['dist_to_hull'] = all_dists\n",
    "\n",
    "# 6) (Optional) Inspect\n",
    "df"
   ]
  },
  {
   "cell_type": "code",
   "execution_count": null,
   "id": "4eea9b15",
   "metadata": {},
   "outputs": [],
   "source": []
  }
 ],
 "metadata": {
  "kernelspec": {
   "display_name": "venv",
   "language": "python",
   "name": "python3"
  },
  "language_info": {
   "codemirror_mode": {
    "name": "ipython",
    "version": 3
   },
   "file_extension": ".py",
   "mimetype": "text/x-python",
   "name": "python",
   "nbconvert_exporter": "python",
   "pygments_lexer": "ipython3",
   "version": "3.13.3"
  }
 },
 "nbformat": 4,
 "nbformat_minor": 5
}
