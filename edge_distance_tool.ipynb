{
 "cells": [
  {
   "cell_type": "code",
   "execution_count": 1,
   "id": "61606708",
   "metadata": {},
   "outputs": [],
   "source": [
    "import matplotlib.pyplot as plt\n",
    "import seaborn as sns\n",
    "import pandas as pd\n",
    "\n",
    "\n",
    "import pandas as pd\n",
    "import os\n",
    "# cell border experimental code: \n",
    "\n",
    "import pandas as pd\n",
    "import numpy as np\n",
    "from scipy.spatial import ConvexHull\n"
   ]
  },
  {
   "cell_type": "code",
   "execution_count": null,
   "id": "bd16d9a5",
   "metadata": {},
   "outputs": [],
   "source": [
    "df1 = pd.read_csv()"
   ]
  },
  {
   "cell_type": "code",
   "execution_count": 3,
   "id": "d5276f5a",
   "metadata": {},
   "outputs": [],
   "source": [
    "# # test case position data for cd3 \n",
    "\n",
    "# cd3_position = pd.read_csv('edge_test/tumor edge test CD3 position_Selection.csv' , skiprows=3)\n",
    "# cd3_position.drop(columns=['Unit', 'Category',\n",
    "#        'Collection', 'Time', 'CC3 catchall', 'CC3 real', 'CD103',\n",
    "#        'CD103+ cDC1', 'CD3','CD177','CD3-CD68', 'CD3-CD68+CD206', 'CD4',\n",
    "#        'CD45',  'Unnamed: 18'], inplace=True)\n",
    "\n",
    "# cd3_distance = pd.read_csv('edge_test/tumor edge test_CD3 distance to tumor edge_Selection.csv' , skiprows=3)\n",
    "# cd3_distance.drop(columns=['Category', 'Surfaces', 'Time',\n",
    "#        'CC3 catchall', 'CC3 real', 'CD103', 'CD103+ cDC1', 'CD177', 'CD3',\n",
    "#        'CD3-CD68', 'CD3-CD68+CD206', 'Unit','CD4', 'CD45', 'Unnamed: 16'], inplace=True)\n",
    "\n",
    "# # cd3_position.head()\n",
    "# cd3_final = cd3_position.merge(cd3_distance, on=[\"ID\"], how='left').sort_values(by=['ID'], ascending=True)\n",
    "# cd3_final =  cd3_final[['ID','Position X', 'Position Y', 'Position Z',\n",
    "#        'Shortest Distance to Surfaces']].set_index('ID')\n",
    "# cd3_final.head()"
   ]
  },
  {
   "cell_type": "code",
   "execution_count": 6,
   "id": "6bf80c72",
   "metadata": {},
   "outputs": [
    {
     "name": "stderr",
     "output_type": "stream",
     "text": [
      "/var/folders/bv/7wzy33ls6ln4ydwr6s8vwq8h0000gn/T/ipykernel_66185/4266110926.py:3: DtypeWarning: Columns (8,9,10,11,12,13,14,15) have mixed types. Specify dtype option on import or set low_memory=False.\n",
      "  dapi2_position = pd.read_csv('edge_test/tumor edge test DAPI position_Selection.csv' , skiprows=3)\n"
     ]
    },
    {
     "data": {
      "application/vnd.microsoft.datawrangler.viewer.v0+json": {
       "columns": [
        {
         "name": "ID",
         "rawType": "int64",
         "type": "integer"
        },
        {
         "name": "Position X",
         "rawType": "float64",
         "type": "float"
        },
        {
         "name": "Position Y",
         "rawType": "float64",
         "type": "float"
        },
        {
         "name": "Position Z",
         "rawType": "float64",
         "type": "float"
        },
        {
         "name": "Shortest Distance to Surfaces",
         "rawType": "float64",
         "type": "float"
        }
       ],
       "ref": "23491c27-dab0-4b42-a524-93373b4b40ca",
       "rows": [
        [
         "0",
         "87286.352",
         "39678.461",
         "2.373",
         "256.589"
        ],
        [
         "1",
         "87253.484",
         "39703.367",
         "6.589",
         "279.778"
        ],
        [
         "2",
         "87024.227",
         "39933.77",
         "6.702",
         "174.885"
        ],
        [
         "3",
         "86896.992",
         "40064.652",
         "5.901",
         "55.385"
        ],
        [
         "4",
         "87015.5",
         "39945.977",
         "5.861",
         "164.362"
        ]
       ],
       "shape": {
        "columns": 4,
        "rows": 5
       }
      },
      "text/html": [
       "<div>\n",
       "<style scoped>\n",
       "    .dataframe tbody tr th:only-of-type {\n",
       "        vertical-align: middle;\n",
       "    }\n",
       "\n",
       "    .dataframe tbody tr th {\n",
       "        vertical-align: top;\n",
       "    }\n",
       "\n",
       "    .dataframe thead th {\n",
       "        text-align: right;\n",
       "    }\n",
       "</style>\n",
       "<table border=\"1\" class=\"dataframe\">\n",
       "  <thead>\n",
       "    <tr style=\"text-align: right;\">\n",
       "      <th></th>\n",
       "      <th>Position X</th>\n",
       "      <th>Position Y</th>\n",
       "      <th>Position Z</th>\n",
       "      <th>Shortest Distance to Surfaces</th>\n",
       "    </tr>\n",
       "    <tr>\n",
       "      <th>ID</th>\n",
       "      <th></th>\n",
       "      <th></th>\n",
       "      <th></th>\n",
       "      <th></th>\n",
       "    </tr>\n",
       "  </thead>\n",
       "  <tbody>\n",
       "    <tr>\n",
       "      <th>0</th>\n",
       "      <td>87286.352</td>\n",
       "      <td>39678.461</td>\n",
       "      <td>2.373</td>\n",
       "      <td>256.589</td>\n",
       "    </tr>\n",
       "    <tr>\n",
       "      <th>1</th>\n",
       "      <td>87253.484</td>\n",
       "      <td>39703.367</td>\n",
       "      <td>6.589</td>\n",
       "      <td>279.778</td>\n",
       "    </tr>\n",
       "    <tr>\n",
       "      <th>2</th>\n",
       "      <td>87024.227</td>\n",
       "      <td>39933.770</td>\n",
       "      <td>6.702</td>\n",
       "      <td>174.885</td>\n",
       "    </tr>\n",
       "    <tr>\n",
       "      <th>3</th>\n",
       "      <td>86896.992</td>\n",
       "      <td>40064.652</td>\n",
       "      <td>5.901</td>\n",
       "      <td>55.385</td>\n",
       "    </tr>\n",
       "    <tr>\n",
       "      <th>4</th>\n",
       "      <td>87015.500</td>\n",
       "      <td>39945.977</td>\n",
       "      <td>5.861</td>\n",
       "      <td>164.362</td>\n",
       "    </tr>\n",
       "  </tbody>\n",
       "</table>\n",
       "</div>"
      ],
      "text/plain": [
       "    Position X  Position Y  Position Z  Shortest Distance to Surfaces\n",
       "ID                                                                   \n",
       "0    87286.352   39678.461       2.373                        256.589\n",
       "1    87253.484   39703.367       6.589                        279.778\n",
       "2    87024.227   39933.770       6.702                        174.885\n",
       "3    86896.992   40064.652       5.901                         55.385\n",
       "4    87015.500   39945.977       5.861                        164.362"
      ]
     },
     "execution_count": 6,
     "metadata": {},
     "output_type": "execute_result"
    }
   ],
   "source": [
    "# Test case position data for dapi \n",
    "\n",
    "dapi2_position = pd.read_csv('edge_test/tumor edge test DAPI position_Selection.csv' , skiprows=3)\n",
    "dapi2_position.drop(columns=['Unit', 'Category',\n",
    "       'Collection', 'Time', 'CC3 catchall', 'CC3 real', 'CD103',\n",
    "       'CD103+ cDC1', 'CD3','CD177','CD3-CD68', 'CD3-CD68+CD206', 'CD4',\n",
    "       'CD45',  'Unnamed: 18'], inplace=True)\n",
    "\n",
    "dapi2_distance = pd.read_csv('edge_test/tumor edge test_DAPI distance to tumor edge_Selection.csv' , skiprows=3)\n",
    "dapi2_distance.drop(columns=['Category', 'Surfaces', 'Time',\n",
    "       'CC3 catchall', 'CC3 real', 'CD103', 'CD103+ cDC1', 'CD177', 'CD3',\n",
    "       'CD3-CD68', 'CD3-CD68+CD206', 'Unit','CD4', 'CD45', 'Unnamed: 16'], inplace=True)\n",
    "\n",
    "# cd3_position.head()\n",
    "dapi2_final = dapi2_position.merge(dapi2_distance, on=[\"ID\"], how='left').sort_values(by=['ID'], ascending=True)\n",
    "dapi2_final =  dapi2_final[['ID','Position X', 'Position Y', 'Position Z',\n",
    "       'Shortest Distance to Surfaces']].set_index('ID')\n",
    "dapi2_final.head()"
   ]
  },
  {
   "cell_type": "code",
   "execution_count": null,
   "id": "aac10278",
   "metadata": {},
   "outputs": [],
   "source": [
    "\n",
    "# 1) Load your data\n",
    "df =  dapi2_final # columns “x” and “y”\n",
    "pts = df[['Position X', 'Position Y']].values             # shape (N,2) array\n",
    "\n",
    "# 2) Compute the convex hull\n",
    "hull = ConvexHull(pts)\n",
    "\n",
    "# hull.simplices is an (E,2) array of index pairs (i, j)\n",
    "# each representing an edge between pts[i] and pts[j].\n",
    "edges = hull.simplices\n",
    "\n",
    "# 3) Define a vectorized distance‐to‐segment function\n",
    "def point_to_segment_distances(points, seg_start, seg_end):\n",
    "    \"\"\"\n",
    "    points: (N,2) array\n",
    "    seg_start, seg_end: each (2,) array\n",
    "    returns: (N,) array of distances from each point to the segment\n",
    "    \"\"\"\n",
    "    v = seg_end - seg_start                      # (2,)\n",
    "    w = points - seg_start                       # (N,2)\n",
    "    # projection factor of each point onto the infinite line\n",
    "    t = np.einsum('ij,j->i', w, v) / np.dot(v, v)\n",
    "    # clamp to [0,1] so we “snap” to the segment\n",
    "    t_clamped = np.clip(t, 0.0, 1.0)             # (N,)\n",
    "    proj = seg_start + t_clamped[:,None] * v     # (N,2)\n",
    "    # euclidean distance from each point to its projection\n",
    "    return np.linalg.norm(points - proj, axis=1)\n",
    "\n",
    "# 4) Loop over edges, keep the minimum distance per point\n",
    "all_dists = np.full(len(pts), np.inf)\n",
    "for i, j in edges:\n",
    "    start, end = pts[i], pts[j]\n",
    "    d = point_to_segment_distances(pts, start, end)\n",
    "    all_dists = np.minimum(all_dists, d)\n",
    "\n",
    "# 5) Attach back to your DataFrame\n",
    "df['dist_to_hull'] = all_dists\n",
    "\n",
    "# 6) (Optional) Inspect\n",
    "df"
   ]
  }
 ],
 "metadata": {
  "kernelspec": {
   "display_name": "venv",
   "language": "python",
   "name": "python3"
  },
  "language_info": {
   "codemirror_mode": {
    "name": "ipython",
    "version": 3
   },
   "file_extension": ".py",
   "mimetype": "text/x-python",
   "name": "python",
   "nbconvert_exporter": "python",
   "pygments_lexer": "ipython3",
   "version": "3.13.3"
  }
 },
 "nbformat": 4,
 "nbformat_minor": 5
}
