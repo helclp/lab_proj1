{
 "cells": [
  {
   "cell_type": "code",
   "execution_count": 1,
   "id": "ba4ea77e",
   "metadata": {},
   "outputs": [],
   "source": [
    "import pandas as pd\n"
   ]
  },
  {
   "cell_type": "code",
   "execution_count": 9,
   "id": "7f593118",
   "metadata": {},
   "outputs": [
    {
     "name": "stdout",
     "output_type": "stream",
     "text": [
      "<bound method NDFrame.head of         POSITION X  POSITION Y  CD68  MDSC\n",
      "0        51257.254   42903.758     0     0\n",
      "1        51619.285   42545.438     1     0\n",
      "2        51489.516   42677.035     0     0\n",
      "3        51618.191   42549.020     0     1\n",
      "4        51434.113   42733.695     1     0\n",
      "...            ...         ...   ...   ...\n",
      "115110   48725.254   40357.273     0     0\n",
      "115111   48741.340   40339.059     0     0\n",
      "115112   48718.805   40368.750     0     0\n",
      "115113   48733.887   40358.613     0     0\n",
      "115114   48724.695   40379.027     0     0\n",
      "\n",
      "[115115 rows x 4 columns]>\n"
     ]
    },
    {
     "name": "stderr",
     "output_type": "stream",
     "text": [
      "<>:1: SyntaxWarning: invalid escape sequence '\\s'\n",
      "<>:1: SyntaxWarning: invalid escape sequence '\\s'\n",
      "C:\\Users\\Maltez Lab\\AppData\\Local\\Temp\\ipykernel_13948\\428672312.py:1: SyntaxWarning: invalid escape sequence '\\s'\n",
      "  df1 = pd.read_csv('sam_csvs\\sam_test1.csv')\n"
     ]
    }
   ],
   "source": [
    "df1 = pd.read_csv('sam_csvs\\sam_test1.csv')\n",
    "df1.columns\n",
    "\n",
    "df = df1[['POSITION X', 'POSITION Y', 'CD68', 'MDSC']]\n",
    "print(df.head)"
   ]
  },
  {
   "cell_type": "code",
   "execution_count": null,
   "id": "ddcd2406",
   "metadata": {},
   "outputs": [
    {
     "name": "stderr",
     "output_type": "stream",
     "text": [
      "C:\\Users\\Maltez Lab\\AppData\\Local\\Temp\\ipykernel_13948\\251496218.py:27: SettingWithCopyWarning: \n",
      "A value is trying to be set on a copy of a slice from a DataFrame.\n",
      "Try using .loc[row_indexer,col_indexer] = value instead\n",
      "\n",
      "See the caveats in the documentation: https://pandas.pydata.org/pandas-docs/stable/user_guide/indexing.html#returning-a-view-versus-a-copy\n",
      "  df['DIST_TO_CLOSEST_MDSC'] = df['DIST_TO_CLOSEST_MDSC'].fillna(0)\n"
     ]
    },
    {
     "data": {
      "application/vnd.microsoft.datawrangler.viewer.v0+json": {
       "columns": [
        {
         "name": "index",
         "rawType": "int64",
         "type": "integer"
        },
        {
         "name": "POSITION X",
         "rawType": "float64",
         "type": "float"
        },
        {
         "name": "POSITION Y",
         "rawType": "float64",
         "type": "float"
        },
        {
         "name": "CD68",
         "rawType": "int64",
         "type": "integer"
        },
        {
         "name": "MDSC",
         "rawType": "int64",
         "type": "integer"
        },
        {
         "name": "DIST_TO_CLOSEST_MDSC",
         "rawType": "float64",
         "type": "float"
        }
       ],
       "ref": "10ddc3cf-0062-4f61-9fde-ca870cbb61db",
       "rows": [
        [
         "1",
         "51619.285",
         "42545.438",
         "1",
         "0",
         "3.745338435972558"
        ],
        [
         "3",
         "51618.191",
         "42549.02",
         "0",
         "1",
         "0.0"
        ],
        [
         "4",
         "51434.113",
         "42733.695",
         "1",
         "0",
         "35.94278972199898"
        ],
        [
         "5",
         "51478.602",
         "42688.203",
         "1",
         "0",
         "68.81311841501905"
        ],
        [
         "6",
         "51325.926",
         "42841.258",
         "1",
         "0",
         "8.287765078716541"
        ],
        [
         "7",
         "51961.352",
         "42207.797",
         "1",
         "0",
         "68.22691390500117"
        ],
        [
         "10",
         "51300.879",
         "42873.695",
         "1",
         "0",
         "17.159113322079158"
        ],
        [
         "11",
         "51313.934",
         "42862.305",
         "1",
         "0",
         "16.04514343968367"
        ],
        [
         "12",
         "51577.297",
         "42597.023",
         "0",
         "1",
         "0.0"
        ],
        [
         "13",
         "51629.895",
         "42548.07",
         "0",
         "1",
         "0.0"
        ],
        [
         "14",
         "51964.344",
         "42214.895",
         "1",
         "0",
         "62.105134771615525"
        ],
        [
         "15",
         "51620.359",
         "42560.586",
         "1",
         "0",
         "11.76743727411085"
        ],
        [
         "17",
         "51434.43",
         "42739.68",
         "1",
         "0",
         "36.21132349141707"
        ],
        [
         "18",
         "51611.832",
         "42569.469",
         "1",
         "0",
         "15.033167497241362"
        ],
        [
         "19",
         "51615.102",
         "42564.766",
         "1",
         "0",
         "14.079826206315957"
        ],
        [
         "20",
         "51623.121",
         "42552.773",
         "1",
         "0",
         "6.195959086375148"
        ],
        [
         "22",
         "51619.789",
         "42566.977",
         "1",
         "0",
         "8.934602621275772"
        ],
        [
         "23",
         "51620.129",
         "42568.668",
         "1",
         "0",
         "7.804844969635674"
        ],
        [
         "24",
         "51601.363",
         "42591.344",
         "1",
         "0",
         "11.377680826953513"
        ],
        [
         "27",
         "51432.867",
         "42759.0",
         "1",
         "0",
         "40.97174560596594"
        ],
        [
         "28",
         "51329.832",
         "42864.473",
         "0",
         "1",
         "0.0"
        ],
        [
         "29",
         "51364.434",
         "42827.977",
         "0",
         "1",
         "0.0"
        ],
        [
         "30",
         "51616.129",
         "42573.094",
         "1",
         "0",
         "11.136195625078551"
        ],
        [
         "31",
         "51372.348",
         "42822.117",
         "1",
         "0",
         "9.847385236699122"
        ],
        [
         "32",
         "51266.848",
         "42928.059",
         "1",
         "0",
         "54.361052123738986"
        ],
        [
         "33",
         "51632.875",
         "42558.234",
         "0",
         "1",
         "0.0"
        ],
        [
         "34",
         "51636.621",
         "42564.633",
         "1",
         "0",
         "7.414830881419783"
        ],
        [
         "35",
         "51642.57",
         "42555.305",
         "0",
         "1",
         "0.0"
        ],
        [
         "36",
         "51255.582",
         "42943.574",
         "1",
         "0",
         "61.022598314067544"
        ],
        [
         "37",
         "51318.52",
         "42881.902",
         "1",
         "0",
         "8.778000911364803"
        ],
        [
         "38",
         "51623.168",
         "42584.09",
         "0",
         "1",
         "0.0"
        ],
        [
         "39",
         "51311.5",
         "42887.172",
         "0",
         "1",
         "0.0"
        ],
        [
         "40",
         "51595.078",
         "42609.238",
         "0",
         "1",
         "0.0"
        ],
        [
         "42",
         "51433.316",
         "42774.992",
         "1",
         "0",
         "51.67363328623178"
        ],
        [
         "45",
         "51617.473",
         "42596.562",
         "0",
         "1",
         "0.0"
        ],
        [
         "46",
         "51613.465",
         "42597.66",
         "1",
         "0",
         "4.155679005893616"
        ],
        [
         "48",
         "51621.547",
         "42589.41",
         "1",
         "0",
         "5.561478310671694"
        ],
        [
         "49",
         "51641.387",
         "42578.352",
         "0",
         "1",
         "0.0"
        ],
        [
         "50",
         "51821.43",
         "42396.344",
         "0",
         "1",
         "0.0"
        ],
        [
         "51",
         "51332.41",
         "42887.129",
         "1",
         "0",
         "13.173662398889572"
        ],
        [
         "52",
         "51619.141",
         "42600.301",
         "0",
         "1",
         "0.0"
        ],
        [
         "53",
         "51902.418",
         "42315.777",
         "1",
         "0",
         "6.206854356275509"
        ],
        [
         "54",
         "51866.086",
         "42356.938",
         "0",
         "1",
         "0.0"
        ],
        [
         "55",
         "51910.273",
         "42315.953",
         "0",
         "1",
         "0.0"
        ],
        [
         "56",
         "51908.547",
         "42314.797",
         "0",
         "1",
         "0.0"
        ],
        [
         "57",
         "51424.18",
         "42802.984",
         "1",
         "0",
         "62.035301724098844"
        ],
        [
         "58",
         "51610.562",
         "42612.789",
         "1",
         "0",
         "13.77818464094717"
        ],
        [
         "59",
         "51596.516",
         "42628.359",
         "0",
         "1",
         "0.0"
        ],
        [
         "60",
         "51316.461",
         "42909.188",
         "1",
         "0",
         "19.310110305224192"
        ],
        [
         "61",
         "51591.957",
         "42641.723",
         "1",
         "0",
         "8.827399730382956"
        ]
       ],
       "shape": {
        "columns": 5,
        "rows": 32266
       }
      },
      "text/html": [
       "<div>\n",
       "<style scoped>\n",
       "    .dataframe tbody tr th:only-of-type {\n",
       "        vertical-align: middle;\n",
       "    }\n",
       "\n",
       "    .dataframe tbody tr th {\n",
       "        vertical-align: top;\n",
       "    }\n",
       "\n",
       "    .dataframe thead th {\n",
       "        text-align: right;\n",
       "    }\n",
       "</style>\n",
       "<table border=\"1\" class=\"dataframe\">\n",
       "  <thead>\n",
       "    <tr style=\"text-align: right;\">\n",
       "      <th></th>\n",
       "      <th>POSITION X</th>\n",
       "      <th>POSITION Y</th>\n",
       "      <th>CD68</th>\n",
       "      <th>MDSC</th>\n",
       "      <th>DIST_TO_CLOSEST_MDSC</th>\n",
       "    </tr>\n",
       "  </thead>\n",
       "  <tbody>\n",
       "    <tr>\n",
       "      <th>1</th>\n",
       "      <td>51619.285</td>\n",
       "      <td>42545.438</td>\n",
       "      <td>1</td>\n",
       "      <td>0</td>\n",
       "      <td>3.745338</td>\n",
       "    </tr>\n",
       "    <tr>\n",
       "      <th>3</th>\n",
       "      <td>51618.191</td>\n",
       "      <td>42549.020</td>\n",
       "      <td>0</td>\n",
       "      <td>1</td>\n",
       "      <td>0.000000</td>\n",
       "    </tr>\n",
       "    <tr>\n",
       "      <th>4</th>\n",
       "      <td>51434.113</td>\n",
       "      <td>42733.695</td>\n",
       "      <td>1</td>\n",
       "      <td>0</td>\n",
       "      <td>35.942790</td>\n",
       "    </tr>\n",
       "    <tr>\n",
       "      <th>5</th>\n",
       "      <td>51478.602</td>\n",
       "      <td>42688.203</td>\n",
       "      <td>1</td>\n",
       "      <td>0</td>\n",
       "      <td>68.813118</td>\n",
       "    </tr>\n",
       "    <tr>\n",
       "      <th>6</th>\n",
       "      <td>51325.926</td>\n",
       "      <td>42841.258</td>\n",
       "      <td>1</td>\n",
       "      <td>0</td>\n",
       "      <td>8.287765</td>\n",
       "    </tr>\n",
       "    <tr>\n",
       "      <th>...</th>\n",
       "      <td>...</td>\n",
       "      <td>...</td>\n",
       "      <td>...</td>\n",
       "      <td>...</td>\n",
       "      <td>...</td>\n",
       "    </tr>\n",
       "    <tr>\n",
       "      <th>115047</th>\n",
       "      <td>48661.957</td>\n",
       "      <td>40872.906</td>\n",
       "      <td>1</td>\n",
       "      <td>0</td>\n",
       "      <td>10.109420</td>\n",
       "    </tr>\n",
       "    <tr>\n",
       "      <th>115051</th>\n",
       "      <td>49046.715</td>\n",
       "      <td>40492.348</td>\n",
       "      <td>1</td>\n",
       "      <td>0</td>\n",
       "      <td>60.086654</td>\n",
       "    </tr>\n",
       "    <tr>\n",
       "      <th>115061</th>\n",
       "      <td>49046.445</td>\n",
       "      <td>40486.332</td>\n",
       "      <td>1</td>\n",
       "      <td>0</td>\n",
       "      <td>58.517117</td>\n",
       "    </tr>\n",
       "    <tr>\n",
       "      <th>115076</th>\n",
       "      <td>49263.344</td>\n",
       "      <td>40169.195</td>\n",
       "      <td>1</td>\n",
       "      <td>0</td>\n",
       "      <td>64.095221</td>\n",
       "    </tr>\n",
       "    <tr>\n",
       "      <th>115097</th>\n",
       "      <td>48615.656</td>\n",
       "      <td>40331.824</td>\n",
       "      <td>1</td>\n",
       "      <td>0</td>\n",
       "      <td>387.023983</td>\n",
       "    </tr>\n",
       "  </tbody>\n",
       "</table>\n",
       "<p>32266 rows × 5 columns</p>\n",
       "</div>"
      ],
      "text/plain": [
       "        POSITION X  POSITION Y  CD68  MDSC  DIST_TO_CLOSEST_MDSC\n",
       "1        51619.285   42545.438     1     0              3.745338\n",
       "3        51618.191   42549.020     0     1              0.000000\n",
       "4        51434.113   42733.695     1     0             35.942790\n",
       "5        51478.602   42688.203     1     0             68.813118\n",
       "6        51325.926   42841.258     1     0              8.287765\n",
       "...            ...         ...   ...   ...                   ...\n",
       "115047   48661.957   40872.906     1     0             10.109420\n",
       "115051   49046.715   40492.348     1     0             60.086654\n",
       "115061   49046.445   40486.332     1     0             58.517117\n",
       "115076   49263.344   40169.195     1     0             64.095221\n",
       "115097   48615.656   40331.824     1     0            387.023983\n",
       "\n",
       "[32266 rows x 5 columns]"
      ]
     },
     "execution_count": 14,
     "metadata": {},
     "output_type": "execute_result"
    }
   ],
   "source": [
    "import numpy as np\n",
    "import pandas as pd\n",
    "from scipy.spatial import cKDTree\n",
    "\n",
    "# Extract position arrays for each group\n",
    "cd68_positions = df[df['CD68'] == 1][['POSITION X', 'POSITION Y']].values\n",
    "mdsc_positions = df[df['MDSC'] == 1][['POSITION X', 'POSITION Y']].values\n",
    "\n",
    "# Build KDTree for MDSC positions\n",
    "mdsc_tree = cKDTree(mdsc_positions)\n",
    "\n",
    "# Compute distances for CD68-positive cells\n",
    "distances = []\n",
    "cd68_indices = df[df['CD68'] == 1].index\n",
    "\n",
    "for idx, (x, y) in zip(cd68_indices, cd68_positions):\n",
    "    if df.loc[idx, 'MDSC'] == 1:\n",
    "        distances.append(0.0)\n",
    "    else:\n",
    "        dist, _ = mdsc_tree.query([x, y])\n",
    "        distances.append(dist)\n",
    "\n",
    "# Assign result back to a new column in the original DataFrame\n",
    "df.loc[cd68_indices, 'DIST_TO_CLOSEST_MDSC'] = distances\n",
    "\n",
    "# Optional: fill NaNs with 0 (or leave them if you want to distinguish non-CD68 rows)\n",
    "df['DIST_TO_CLOSEST_MDSC'] = df['DIST_TO_CLOSEST_MDSC'].fillna(0)\n",
    "\n",
    "# 🔍 Final Filter: keep only rows where CD68 == 1 or MDSC == 1\n",
    "filtered_df = df[(df['CD68'] == 1) | (df['MDSC'] == 1)]\n",
    "\n",
    "# Preview\n",
    "filtered_df #[['POSITION X', 'POSITION Y', 'CD68', 'MDSC', 'DIST_TO_CLOSEST_MDSC']]"
   ]
  },
  {
   "cell_type": "code",
   "execution_count": null,
   "id": "9f0fc232",
   "metadata": {},
   "outputs": [],
   "source": []
  },
  {
   "cell_type": "code",
   "execution_count": null,
   "id": "d55d7cb0",
   "metadata": {},
   "outputs": [],
   "source": []
  }
 ],
 "metadata": {
  "kernelspec": {
   "display_name": "venv",
   "language": "python",
   "name": "python3"
  },
  "language_info": {
   "codemirror_mode": {
    "name": "ipython",
    "version": 3
   },
   "file_extension": ".py",
   "mimetype": "text/x-python",
   "name": "python",
   "nbconvert_exporter": "python",
   "pygments_lexer": "ipython3",
   "version": "3.13.3"
  }
 },
 "nbformat": 4,
 "nbformat_minor": 5
}
