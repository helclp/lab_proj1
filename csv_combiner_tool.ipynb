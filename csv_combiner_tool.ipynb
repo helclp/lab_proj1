{
 "cells": [
  {
   "cell_type": "markdown",
   "id": "a82b4637",
   "metadata": {},
   "source": [
    "# Cell Below is CSV Combiner \n",
    "\n",
    "Run the cell below using the triangle button on the top left or clicking in the cell and pressing Shift + Enter to run it. The code will use the files names from the \"data\" folder. It will assume protein names from each file names by using everything before the first underscore (_) then will combine into one csv file with columns as different proteins from each file. \n",
    "\n",
    "Note that there will be a preview of the first 10 rows of what the final csv looks like so you can check it before moving to save it in the following cell. "
   ]
  },
  {
   "cell_type": "code",
   "execution_count": 5,
   "id": "3a507446",
   "metadata": {},
   "outputs": [
    {
     "data": {
      "application/vnd.microsoft.datawrangler.viewer.v0+json": {
       "columns": [
        {
         "name": "index",
         "rawType": "int64",
         "type": "integer"
        },
        {
         "name": "POSITION X",
         "rawType": "float64",
         "type": "float"
        },
        {
         "name": "POSITION Y",
         "rawType": "float64",
         "type": "float"
        },
        {
         "name": "CD3",
         "rawType": "int64",
         "type": "integer"
        },
        {
         "name": "CD4",
         "rawType": "int64",
         "type": "integer"
        },
        {
         "name": "FOXP3",
         "rawType": "int64",
         "type": "integer"
        },
        {
         "name": "NK1.1",
         "rawType": "int64",
         "type": "integer"
        }
       ],
       "ref": "c179c6f1-8bdc-4567-a52c-9ffd46854917",
       "rows": [
        [
         "0",
         "55878.777",
         "41778.797",
         "0",
         "1",
         "0",
         "0"
        ],
        [
         "1",
         "57359.824",
         "40297.508",
         "0",
         "1",
         "0",
         "0"
        ],
        [
         "2",
         "56290.895",
         "41362.34",
         "0",
         "1",
         "0",
         "0"
        ],
        [
         "3",
         "56432.293",
         "41224.496",
         "0",
         "1",
         "0",
         "0"
        ],
        [
         "4",
         "55830.648",
         "41824.309",
         "0",
         "1",
         "0",
         "0"
        ],
        [
         "5",
         "56446.129",
         "41210.715",
         "0",
         "1",
         "0",
         "0"
        ],
        [
         "6",
         "56878.461",
         "40779.797",
         "0",
         "1",
         "0",
         "0"
        ],
        [
         "7",
         "55724.754",
         "41931.93",
         "0",
         "1",
         "0",
         "0"
        ],
        [
         "8",
         "55630.605",
         "42030.855",
         "0",
         "0",
         "0",
         "0"
        ],
        [
         "9",
         "56920.711",
         "40736.898",
         "0",
         "0",
         "0",
         "0"
        ],
        [
         "10",
         "55933.332",
         "41725.762",
         "0",
         "1",
         "0",
         "0"
        ],
        [
         "11",
         "55882.617",
         "41774.57",
         "0",
         "1",
         "0",
         "0"
        ],
        [
         "12",
         "57367.984",
         "40290.301",
         "0",
         "1",
         "0",
         "0"
        ],
        [
         "13",
         "55581.516",
         "42081.227",
         "0",
         "0",
         "0",
         "0"
        ],
        [
         "14",
         "55636.113",
         "42023.359",
         "0",
         "0",
         "0",
         "0"
        ],
        [
         "15",
         "56974.297",
         "40688.297",
         "0",
         "1",
         "0",
         "0"
        ],
        [
         "16",
         "56250.445",
         "41408.449",
         "0",
         "0",
         "0",
         "0"
        ],
        [
         "17",
         "56415.422",
         "41245.434",
         "0",
         "1",
         "1",
         "1"
        ],
        [
         "18",
         "57403.641",
         "40254.629",
         "0",
         "1",
         "0",
         "0"
        ],
        [
         "19",
         "55859.852",
         "41799.164",
         "0",
         "1",
         "0",
         "0"
        ],
        [
         "20",
         "57353.707",
         "40306.516",
         "0",
         "0",
         "0",
         "0"
        ],
        [
         "21",
         "57117.301",
         "40543.32",
         "0",
         "0",
         "0",
         "0"
        ],
        [
         "22",
         "56152.641",
         "41508.348",
         "0",
         "0",
         "0",
         "0"
        ],
        [
         "23",
         "56068.223",
         "41592.359",
         "0",
         "1",
         "0",
         "0"
        ],
        [
         "24",
         "56636.074",
         "41023.852",
         "0",
         "1",
         "0",
         "0"
        ],
        [
         "25",
         "56465.699",
         "41195.344",
         "0",
         "0",
         "0",
         "0"
        ],
        [
         "26",
         "56891.766",
         "40770.223",
         "0",
         "0",
         "0",
         "0"
        ],
        [
         "27",
         "55689.555",
         "41974.848",
         "0",
         "1",
         "0",
         "0"
        ],
        [
         "28",
         "56980.969",
         "40681.113",
         "0",
         "1",
         "0",
         "0"
        ],
        [
         "29",
         "56293.059",
         "41370.391",
         "0",
         "0",
         "0",
         "0"
        ],
        [
         "30",
         "55999.66",
         "41662.125",
         "1",
         "1",
         "0",
         "0"
        ],
        [
         "31",
         "56692.27",
         "40967.238",
         "0",
         "0",
         "0",
         "0"
        ],
        [
         "32",
         "55991.656",
         "41672.445",
         "0",
         "1",
         "0",
         "0"
        ],
        [
         "33",
         "56701.766",
         "40960.211",
         "0",
         "0",
         "0",
         "0"
        ],
        [
         "34",
         "55975.48",
         "41690.367",
         "0",
         "1",
         "0",
         "0"
        ],
        [
         "35",
         "57452.004",
         "40212.0",
         "0",
         "1",
         "0",
         "0"
        ],
        [
         "36",
         "55802.129",
         "41864.715",
         "0",
         "0",
         "0",
         "0"
        ],
        [
         "37",
         "56642.086",
         "41022.887",
         "0",
         "1",
         "0",
         "0"
        ],
        [
         "38",
         "56039.035",
         "41623.848",
         "0",
         "0",
         "0",
         "0"
        ],
        [
         "39",
         "55924.664",
         "41739.59",
         "0",
         "1",
         "0",
         "0"
        ],
        [
         "40",
         "55859.887",
         "41806.223",
         "0",
         "1",
         "0",
         "0"
        ],
        [
         "41",
         "56607.742",
         "41054.105",
         "0",
         "0",
         "0",
         "0"
        ],
        [
         "42",
         "57126.43",
         "40538.598",
         "0",
         "1",
         "0",
         "0"
        ],
        [
         "43",
         "56043.23",
         "41624.883",
         "0",
         "0",
         "0",
         "0"
        ],
        [
         "44",
         "55875.695",
         "41789.676",
         "0",
         "1",
         "0",
         "0"
        ],
        [
         "45",
         "56454.117",
         "41211.297",
         "0",
         "1",
         "0",
         "0"
        ],
        [
         "46",
         "55826.812",
         "41836.477",
         "0",
         "1",
         "0",
         "0"
        ],
        [
         "47",
         "56908.82",
         "40754.352",
         "0",
         "0",
         "0",
         "0"
        ],
        [
         "48",
         "56967.895",
         "40697.234",
         "0",
         "0",
         "0",
         "0"
        ],
        [
         "49",
         "55967.348",
         "41699.453",
         "0",
         "1",
         "0",
         "0"
        ]
       ],
       "shape": {
        "columns": 6,
        "rows": 114269
       }
      },
      "text/html": [
       "<div>\n",
       "<style scoped>\n",
       "    .dataframe tbody tr th:only-of-type {\n",
       "        vertical-align: middle;\n",
       "    }\n",
       "\n",
       "    .dataframe tbody tr th {\n",
       "        vertical-align: top;\n",
       "    }\n",
       "\n",
       "    .dataframe thead th {\n",
       "        text-align: right;\n",
       "    }\n",
       "</style>\n",
       "<table border=\"1\" class=\"dataframe\">\n",
       "  <thead>\n",
       "    <tr style=\"text-align: right;\">\n",
       "      <th></th>\n",
       "      <th>POSITION X</th>\n",
       "      <th>POSITION Y</th>\n",
       "      <th>CD3</th>\n",
       "      <th>CD4</th>\n",
       "      <th>FOXP3</th>\n",
       "      <th>NK1.1</th>\n",
       "    </tr>\n",
       "  </thead>\n",
       "  <tbody>\n",
       "    <tr>\n",
       "      <th>0</th>\n",
       "      <td>55878.777</td>\n",
       "      <td>41778.797</td>\n",
       "      <td>0</td>\n",
       "      <td>1</td>\n",
       "      <td>0</td>\n",
       "      <td>0</td>\n",
       "    </tr>\n",
       "    <tr>\n",
       "      <th>1</th>\n",
       "      <td>57359.824</td>\n",
       "      <td>40297.508</td>\n",
       "      <td>0</td>\n",
       "      <td>1</td>\n",
       "      <td>0</td>\n",
       "      <td>0</td>\n",
       "    </tr>\n",
       "    <tr>\n",
       "      <th>2</th>\n",
       "      <td>56290.895</td>\n",
       "      <td>41362.340</td>\n",
       "      <td>0</td>\n",
       "      <td>1</td>\n",
       "      <td>0</td>\n",
       "      <td>0</td>\n",
       "    </tr>\n",
       "    <tr>\n",
       "      <th>3</th>\n",
       "      <td>56432.293</td>\n",
       "      <td>41224.496</td>\n",
       "      <td>0</td>\n",
       "      <td>1</td>\n",
       "      <td>0</td>\n",
       "      <td>0</td>\n",
       "    </tr>\n",
       "    <tr>\n",
       "      <th>4</th>\n",
       "      <td>55830.648</td>\n",
       "      <td>41824.309</td>\n",
       "      <td>0</td>\n",
       "      <td>1</td>\n",
       "      <td>0</td>\n",
       "      <td>0</td>\n",
       "    </tr>\n",
       "    <tr>\n",
       "      <th>...</th>\n",
       "      <td>...</td>\n",
       "      <td>...</td>\n",
       "      <td>...</td>\n",
       "      <td>...</td>\n",
       "      <td>...</td>\n",
       "      <td>...</td>\n",
       "    </tr>\n",
       "    <tr>\n",
       "      <th>114264</th>\n",
       "      <td>53369.691</td>\n",
       "      <td>38341.012</td>\n",
       "      <td>0</td>\n",
       "      <td>1</td>\n",
       "      <td>0</td>\n",
       "      <td>0</td>\n",
       "    </tr>\n",
       "    <tr>\n",
       "      <th>114265</th>\n",
       "      <td>53274.793</td>\n",
       "      <td>38437.641</td>\n",
       "      <td>0</td>\n",
       "      <td>0</td>\n",
       "      <td>0</td>\n",
       "      <td>0</td>\n",
       "    </tr>\n",
       "    <tr>\n",
       "      <th>114266</th>\n",
       "      <td>53579.414</td>\n",
       "      <td>38130.742</td>\n",
       "      <td>0</td>\n",
       "      <td>1</td>\n",
       "      <td>0</td>\n",
       "      <td>0</td>\n",
       "    </tr>\n",
       "    <tr>\n",
       "      <th>114267</th>\n",
       "      <td>53456.289</td>\n",
       "      <td>38254.949</td>\n",
       "      <td>0</td>\n",
       "      <td>1</td>\n",
       "      <td>0</td>\n",
       "      <td>0</td>\n",
       "    </tr>\n",
       "    <tr>\n",
       "      <th>114268</th>\n",
       "      <td>53551.980</td>\n",
       "      <td>38157.867</td>\n",
       "      <td>0</td>\n",
       "      <td>0</td>\n",
       "      <td>0</td>\n",
       "      <td>0</td>\n",
       "    </tr>\n",
       "  </tbody>\n",
       "</table>\n",
       "<p>114269 rows × 6 columns</p>\n",
       "</div>"
      ],
      "text/plain": [
       "        POSITION X  POSITION Y  CD3  CD4  FOXP3  NK1.1\n",
       "0        55878.777   41778.797    0    1      0      0\n",
       "1        57359.824   40297.508    0    1      0      0\n",
       "2        56290.895   41362.340    0    1      0      0\n",
       "3        56432.293   41224.496    0    1      0      0\n",
       "4        55830.648   41824.309    0    1      0      0\n",
       "...            ...         ...  ...  ...    ...    ...\n",
       "114264   53369.691   38341.012    0    1      0      0\n",
       "114265   53274.793   38437.641    0    0      0      0\n",
       "114266   53579.414   38130.742    0    1      0      0\n",
       "114267   53456.289   38254.949    0    1      0      0\n",
       "114268   53551.980   38157.867    0    0      0      0\n",
       "\n",
       "[114269 rows x 6 columns]"
      ]
     },
     "execution_count": 5,
     "metadata": {},
     "output_type": "execute_result"
    }
   ],
   "source": [
    "import pandas as pd\n",
    "from IPython.display import FileLink\n",
    "import os\n",
    "\n",
    "def merge_protein_csvs(folder_path):\n",
    "    # Step 1: Get all CSVs\n",
    "    csv_files = [f for f in os.listdir(folder_path) if f.endswith('.csv')]\n",
    "\n",
    "    # Step 2: Identify the DAPI file (case-insensitive search)\n",
    "    dapi_file = next((f for f in csv_files if 'dapi' in f.lower()), None)\n",
    "    if not dapi_file:\n",
    "        raise ValueError(\"No DAPI file found in folder.\")\n",
    "\n",
    "    # Step 3: Load DAPI DataFrame as base\n",
    "    dapi_df = pd.read_csv(os.path.join(folder_path, dapi_file), skiprows=3)\n",
    "    dapi_df.columns = [col.strip().rstrip(',').upper() for col in dapi_df.columns]\n",
    "    dapi_df = dapi_df[['POSITION X', 'POSITION Y']].drop_duplicates()\n",
    "    \n",
    "    # Ensure we don't modify DAPI filename in the loop\n",
    "    remaining_files = [f for f in csv_files if f != dapi_file]\n",
    "\n",
    "    # Step 4: Process each protein file\n",
    "    for file in remaining_files:\n",
    "        filepath = os.path.join(folder_path, file)\n",
    "        df = pd.read_csv(filepath, skiprows=3)\n",
    "        df.columns = [col.strip().rstrip(',').upper() for col in df.columns]\n",
    "        \n",
    "        # Drop duplicates just in case\n",
    "        df = df[['POSITION X', 'POSITION Y']].drop_duplicates()\n",
    "        \n",
    "        # Extract protein name and convert to uppercase\n",
    "        protein_name = file.split('_')[0].upper()\n",
    "        \n",
    "        # Mark presence of (X,Y) in current protein file\n",
    "        df[protein_name] = 1\n",
    "        \n",
    "        # Merge into base (DAPI) on POSITION X and Y\n",
    "        dapi_df = dapi_df.merge(df, on=['POSITION X', 'POSITION Y'], how='left')\n",
    "    \n",
    "    # Step 5: Replace NaN with 0 in presence columns\n",
    "    presence_cols = [col for col in dapi_df.columns if col not in ['POSITION X', 'POSITION Y']]\n",
    "    dapi_df[presence_cols] = dapi_df[presence_cols].fillna(0).astype(int)\n",
    "\n",
    "    return dapi_df\n",
    "\n",
    "\n",
    "folder_path = './data/'\n",
    "combined_csv = merge_protein_csvs(folder_path)\n",
    "combined_csv\n"
   ]
  },
  {
   "cell_type": "markdown",
   "id": "ab3d137c",
   "metadata": {},
   "source": [
    "# Use cell below to save the combined csv file after ensuring the preview looks correct above. \n",
    "\n",
    "Run the cell below by clicking the triangle in the top left or clicking in the cell and pressing shift + enter. Make sure to renmae the file name to whatever you need in the part to left of the green arrow make sure to leave the name in the quotes. \n",
    "\n",
    "The combined csv file will be saved in a folder called \"combined_csvs\" there will also be a hyperlink below that will open up the csv file to make sure you can see where it is stored and view the full file. "
   ]
  },
  {
   "cell_type": "code",
   "execution_count": 7,
   "id": "affc5213",
   "metadata": {},
   "outputs": [
    {
     "data": {
      "text/html": [
       "<a href='combined_csvs/final_output.csv' target='_blank'>combined_csvs/final_output.csv</a><br>"
      ],
      "text/plain": [
       "/Users/patrick/Desktop2/lab_proj1/combined_csvs/final_output.csv"
      ]
     },
     "execution_count": 7,
     "metadata": {},
     "output_type": "execute_result"
    }
   ],
   "source": [
    "output_dir = \"combined_csvs\"\n",
    "os.makedirs(output_dir, exist_ok=True)  \n",
    "\n",
    "file_name = \"final_output.csv\" # <----------- Change the file name here (leave the .csv extension)\n",
    "output_path = os.path.join(output_dir, file_name)\n",
    "\n",
    "combined_csv.to_csv(output_path, index=False)\n",
    "\n",
    "FileLink(output_path)\n"
   ]
  }
 ],
 "metadata": {
  "kernelspec": {
   "display_name": ".venv",
   "language": "python",
   "name": "python3"
  },
  "language_info": {
   "codemirror_mode": {
    "name": "ipython",
    "version": 3
   },
   "file_extension": ".py",
   "mimetype": "text/x-python",
   "name": "python",
   "nbconvert_exporter": "python",
   "pygments_lexer": "ipython3",
   "version": "3.12.6"
  }
 },
 "nbformat": 4,
 "nbformat_minor": 5
}
