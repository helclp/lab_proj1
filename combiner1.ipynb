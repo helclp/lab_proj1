{
 "cells": [
  {
   "cell_type": "code",
   "execution_count": 1,
   "id": "d57114a8",
   "metadata": {},
   "outputs": [],
   "source": [
    "import pandas as pd\n",
    "import os"
   ]
  },
  {
   "cell_type": "code",
   "execution_count": 2,
   "id": "0cec0a68",
   "metadata": {},
   "outputs": [
    {
     "data": {
      "application/vnd.microsoft.datawrangler.viewer.v0+json": {
       "columns": [
        {
         "name": "index",
         "rawType": "int64",
         "type": "integer"
        },
        {
         "name": "POSITION X",
         "rawType": "float64",
         "type": "float"
        },
        {
         "name": "POSITION Y",
         "rawType": "float64",
         "type": "float"
        },
        {
         "name": "CD3",
         "rawType": "int64",
         "type": "integer"
        },
        {
         "name": "CD4",
         "rawType": "int64",
         "type": "integer"
        },
        {
         "name": "FOXP3",
         "rawType": "int64",
         "type": "integer"
        },
        {
         "name": "NK1.1",
         "rawType": "int64",
         "type": "integer"
        }
       ],
       "conversionMethod": "pd.DataFrame",
       "ref": "47bd2f19-9e6c-41f0-9972-1b5e0a026831",
       "rows": [
        [
         "0",
         "55878.777",
         "41778.797",
         "0",
         "1",
         "0",
         "0"
        ],
        [
         "1",
         "57359.824",
         "40297.508",
         "0",
         "1",
         "0",
         "0"
        ],
        [
         "2",
         "56290.895",
         "41362.34",
         "0",
         "1",
         "0",
         "0"
        ],
        [
         "3",
         "56432.293",
         "41224.496",
         "0",
         "1",
         "0",
         "0"
        ],
        [
         "4",
         "55830.648",
         "41824.309",
         "0",
         "1",
         "0",
         "0"
        ],
        [
         "5",
         "56446.129",
         "41210.715",
         "0",
         "1",
         "0",
         "0"
        ],
        [
         "6",
         "56878.461",
         "40779.797",
         "0",
         "1",
         "0",
         "0"
        ],
        [
         "7",
         "55724.754",
         "41931.93",
         "0",
         "1",
         "0",
         "0"
        ],
        [
         "8",
         "55630.605",
         "42030.855",
         "0",
         "0",
         "0",
         "0"
        ],
        [
         "9",
         "56920.711",
         "40736.898",
         "0",
         "0",
         "0",
         "0"
        ],
        [
         "10",
         "55933.332",
         "41725.762",
         "0",
         "1",
         "0",
         "0"
        ],
        [
         "11",
         "55882.617",
         "41774.57",
         "0",
         "1",
         "0",
         "0"
        ],
        [
         "12",
         "57367.984",
         "40290.301",
         "0",
         "1",
         "0",
         "0"
        ],
        [
         "13",
         "55581.516",
         "42081.227",
         "0",
         "0",
         "0",
         "0"
        ],
        [
         "14",
         "55636.113",
         "42023.359",
         "0",
         "0",
         "0",
         "0"
        ],
        [
         "15",
         "56974.297",
         "40688.297",
         "0",
         "1",
         "0",
         "0"
        ],
        [
         "16",
         "56250.445",
         "41408.449",
         "0",
         "0",
         "0",
         "0"
        ],
        [
         "17",
         "56415.422",
         "41245.434",
         "0",
         "1",
         "1",
         "1"
        ],
        [
         "18",
         "57403.641",
         "40254.629",
         "0",
         "1",
         "0",
         "0"
        ],
        [
         "19",
         "55859.852",
         "41799.164",
         "0",
         "1",
         "0",
         "0"
        ],
        [
         "20",
         "57353.707",
         "40306.516",
         "0",
         "0",
         "0",
         "0"
        ],
        [
         "21",
         "57117.301",
         "40543.32",
         "0",
         "0",
         "0",
         "0"
        ],
        [
         "22",
         "56152.641",
         "41508.348",
         "0",
         "0",
         "0",
         "0"
        ],
        [
         "23",
         "56068.223",
         "41592.359",
         "0",
         "1",
         "0",
         "0"
        ],
        [
         "24",
         "56636.074",
         "41023.852",
         "0",
         "1",
         "0",
         "0"
        ],
        [
         "25",
         "56465.699",
         "41195.344",
         "0",
         "0",
         "0",
         "0"
        ],
        [
         "26",
         "56891.766",
         "40770.223",
         "0",
         "0",
         "0",
         "0"
        ],
        [
         "27",
         "55689.555",
         "41974.848",
         "0",
         "1",
         "0",
         "0"
        ],
        [
         "28",
         "56980.969",
         "40681.113",
         "0",
         "1",
         "0",
         "0"
        ],
        [
         "29",
         "56293.059",
         "41370.391",
         "0",
         "0",
         "0",
         "0"
        ],
        [
         "30",
         "55999.66",
         "41662.125",
         "1",
         "1",
         "0",
         "0"
        ],
        [
         "31",
         "56692.27",
         "40967.238",
         "0",
         "0",
         "0",
         "0"
        ],
        [
         "32",
         "55991.656",
         "41672.445",
         "0",
         "1",
         "0",
         "0"
        ],
        [
         "33",
         "56701.766",
         "40960.211",
         "0",
         "0",
         "0",
         "0"
        ],
        [
         "34",
         "55975.48",
         "41690.367",
         "0",
         "1",
         "0",
         "0"
        ],
        [
         "35",
         "57452.004",
         "40212.0",
         "0",
         "1",
         "0",
         "0"
        ],
        [
         "36",
         "55802.129",
         "41864.715",
         "0",
         "0",
         "0",
         "0"
        ],
        [
         "37",
         "56642.086",
         "41022.887",
         "0",
         "1",
         "0",
         "0"
        ],
        [
         "38",
         "56039.035",
         "41623.848",
         "0",
         "0",
         "0",
         "0"
        ],
        [
         "39",
         "55924.664",
         "41739.59",
         "0",
         "1",
         "0",
         "0"
        ],
        [
         "40",
         "55859.887",
         "41806.223",
         "0",
         "1",
         "0",
         "0"
        ],
        [
         "41",
         "56607.742",
         "41054.105",
         "0",
         "0",
         "0",
         "0"
        ],
        [
         "42",
         "57126.43",
         "40538.598",
         "0",
         "1",
         "0",
         "0"
        ],
        [
         "43",
         "56043.23",
         "41624.883",
         "0",
         "0",
         "0",
         "0"
        ],
        [
         "44",
         "55875.695",
         "41789.676",
         "0",
         "1",
         "0",
         "0"
        ],
        [
         "45",
         "56454.117",
         "41211.297",
         "0",
         "1",
         "0",
         "0"
        ],
        [
         "46",
         "55826.812",
         "41836.477",
         "0",
         "1",
         "0",
         "0"
        ],
        [
         "47",
         "56908.82",
         "40754.352",
         "0",
         "0",
         "0",
         "0"
        ],
        [
         "48",
         "56967.895",
         "40697.234",
         "0",
         "0",
         "0",
         "0"
        ],
        [
         "49",
         "55967.348",
         "41699.453",
         "0",
         "1",
         "0",
         "0"
        ]
       ],
       "shape": {
        "columns": 6,
        "rows": 114269
       }
      },
      "text/html": [
       "<div>\n",
       "<style scoped>\n",
       "    .dataframe tbody tr th:only-of-type {\n",
       "        vertical-align: middle;\n",
       "    }\n",
       "\n",
       "    .dataframe tbody tr th {\n",
       "        vertical-align: top;\n",
       "    }\n",
       "\n",
       "    .dataframe thead th {\n",
       "        text-align: right;\n",
       "    }\n",
       "</style>\n",
       "<table border=\"1\" class=\"dataframe\">\n",
       "  <thead>\n",
       "    <tr style=\"text-align: right;\">\n",
       "      <th></th>\n",
       "      <th>POSITION X</th>\n",
       "      <th>POSITION Y</th>\n",
       "      <th>CD3</th>\n",
       "      <th>CD4</th>\n",
       "      <th>FOXP3</th>\n",
       "      <th>NK1.1</th>\n",
       "    </tr>\n",
       "  </thead>\n",
       "  <tbody>\n",
       "    <tr>\n",
       "      <th>0</th>\n",
       "      <td>55878.777</td>\n",
       "      <td>41778.797</td>\n",
       "      <td>0</td>\n",
       "      <td>1</td>\n",
       "      <td>0</td>\n",
       "      <td>0</td>\n",
       "    </tr>\n",
       "    <tr>\n",
       "      <th>1</th>\n",
       "      <td>57359.824</td>\n",
       "      <td>40297.508</td>\n",
       "      <td>0</td>\n",
       "      <td>1</td>\n",
       "      <td>0</td>\n",
       "      <td>0</td>\n",
       "    </tr>\n",
       "    <tr>\n",
       "      <th>2</th>\n",
       "      <td>56290.895</td>\n",
       "      <td>41362.340</td>\n",
       "      <td>0</td>\n",
       "      <td>1</td>\n",
       "      <td>0</td>\n",
       "      <td>0</td>\n",
       "    </tr>\n",
       "    <tr>\n",
       "      <th>3</th>\n",
       "      <td>56432.293</td>\n",
       "      <td>41224.496</td>\n",
       "      <td>0</td>\n",
       "      <td>1</td>\n",
       "      <td>0</td>\n",
       "      <td>0</td>\n",
       "    </tr>\n",
       "    <tr>\n",
       "      <th>4</th>\n",
       "      <td>55830.648</td>\n",
       "      <td>41824.309</td>\n",
       "      <td>0</td>\n",
       "      <td>1</td>\n",
       "      <td>0</td>\n",
       "      <td>0</td>\n",
       "    </tr>\n",
       "    <tr>\n",
       "      <th>...</th>\n",
       "      <td>...</td>\n",
       "      <td>...</td>\n",
       "      <td>...</td>\n",
       "      <td>...</td>\n",
       "      <td>...</td>\n",
       "      <td>...</td>\n",
       "    </tr>\n",
       "    <tr>\n",
       "      <th>114264</th>\n",
       "      <td>53369.691</td>\n",
       "      <td>38341.012</td>\n",
       "      <td>0</td>\n",
       "      <td>1</td>\n",
       "      <td>0</td>\n",
       "      <td>0</td>\n",
       "    </tr>\n",
       "    <tr>\n",
       "      <th>114265</th>\n",
       "      <td>53274.793</td>\n",
       "      <td>38437.641</td>\n",
       "      <td>0</td>\n",
       "      <td>0</td>\n",
       "      <td>0</td>\n",
       "      <td>0</td>\n",
       "    </tr>\n",
       "    <tr>\n",
       "      <th>114266</th>\n",
       "      <td>53579.414</td>\n",
       "      <td>38130.742</td>\n",
       "      <td>0</td>\n",
       "      <td>1</td>\n",
       "      <td>0</td>\n",
       "      <td>0</td>\n",
       "    </tr>\n",
       "    <tr>\n",
       "      <th>114267</th>\n",
       "      <td>53456.289</td>\n",
       "      <td>38254.949</td>\n",
       "      <td>0</td>\n",
       "      <td>1</td>\n",
       "      <td>0</td>\n",
       "      <td>0</td>\n",
       "    </tr>\n",
       "    <tr>\n",
       "      <th>114268</th>\n",
       "      <td>53551.980</td>\n",
       "      <td>38157.867</td>\n",
       "      <td>0</td>\n",
       "      <td>0</td>\n",
       "      <td>0</td>\n",
       "      <td>0</td>\n",
       "    </tr>\n",
       "  </tbody>\n",
       "</table>\n",
       "<p>114269 rows × 6 columns</p>\n",
       "</div>"
      ],
      "text/plain": [
       "        POSITION X  POSITION Y  CD3  CD4  FOXP3  NK1.1\n",
       "0        55878.777   41778.797    0    1      0      0\n",
       "1        57359.824   40297.508    0    1      0      0\n",
       "2        56290.895   41362.340    0    1      0      0\n",
       "3        56432.293   41224.496    0    1      0      0\n",
       "4        55830.648   41824.309    0    1      0      0\n",
       "...            ...         ...  ...  ...    ...    ...\n",
       "114264   53369.691   38341.012    0    1      0      0\n",
       "114265   53274.793   38437.641    0    0      0      0\n",
       "114266   53579.414   38130.742    0    1      0      0\n",
       "114267   53456.289   38254.949    0    1      0      0\n",
       "114268   53551.980   38157.867    0    0      0      0\n",
       "\n",
       "[114269 rows x 6 columns]"
      ]
     },
     "execution_count": 2,
     "metadata": {},
     "output_type": "execute_result"
    }
   ],
   "source": [
    "def merge_protein_csvs(folder_path):\n",
    "    # Step 1: Get all CSVs\n",
    "    csv_files = [f for f in os.listdir(folder_path) if f.endswith('.csv')]\n",
    "\n",
    "    # Step 2: Identify the DAPI file (case-insensitive search)\n",
    "    dapi_file = next((f for f in csv_files if 'dapi' in f.lower()), None)\n",
    "    if not dapi_file:\n",
    "        raise ValueError(\"No DAPI file found in folder.\")\n",
    "\n",
    "    # Step 3: Load DAPI DataFrame as base\n",
    "    dapi_df = pd.read_csv(os.path.join(folder_path, dapi_file), skiprows=3)\n",
    "    dapi_df.columns = [col.strip().rstrip(',').upper() for col in dapi_df.columns]\n",
    "    dapi_df = dapi_df[['POSITION X', 'POSITION Y']].drop_duplicates()\n",
    "    \n",
    "    # Ensure we don't modify DAPI filename in the loop\n",
    "    remaining_files = [f for f in csv_files if f != dapi_file]\n",
    "\n",
    "    # Step 4: Process each protein file\n",
    "    for file in remaining_files:\n",
    "        filepath = os.path.join(folder_path, file)\n",
    "        df = pd.read_csv(filepath, skiprows=3)\n",
    "        df.columns = [col.strip().rstrip(',').upper() for col in df.columns]\n",
    "        \n",
    "        # Drop duplicates just in case\n",
    "        df = df[['POSITION X', 'POSITION Y']].drop_duplicates()\n",
    "        \n",
    "        # Extract protein name and convert to uppercase\n",
    "        protein_name = file.split('_')[0].upper()\n",
    "        \n",
    "        # Mark presence of (X,Y) in current protein file\n",
    "        df[protein_name] = 1\n",
    "        \n",
    "        # Merge into base (DAPI) on POSITION X and Y\n",
    "        dapi_df = dapi_df.merge(df, on=['POSITION X', 'POSITION Y'], how='left')\n",
    "    \n",
    "    # Step 5: Replace NaN with 0 in presence columns\n",
    "    presence_cols = [col for col in dapi_df.columns if col not in ['POSITION X', 'POSITION Y']]\n",
    "    dapi_df[presence_cols] = dapi_df[presence_cols].fillna(0).astype(int)\n",
    "\n",
    "    return dapi_df\n",
    "\n",
    "# Example usage:\n",
    "folder_path = './data/'\n",
    "test1 = merge_protein_csvs(folder_path)\n",
    "test1\n"
   ]
  },
  {
   "cell_type": "code",
   "execution_count": null,
   "id": "3a866932",
   "metadata": {},
   "outputs": [],
   "source": [
    "# def row_labeler(row):\n",
    "#     #start with checking for nk1.1. then cd3 then cd11b\n",
    "\n",
    "#     # NK cells section, first check for NK1.1\n",
    "#     if 'NK1.1'in row and row['NK1.1'] ==1:\n",
    "#         if 'CD3' in row and row['CD3'] == 0:\n",
    "#             if ('CD69' in row and row['CD69'] == 1) and ('GRANZYME' in row and row['GRANZYME'] == 1):\n",
    "#                 return 'Cytotoxic Activated NK Cell' \n",
    "\n",
    "#             elif ('CD69' in row and row['CD69'] == 0 ) and ('GRANZYME' in row and row['GRANZYME'] == 1):\n",
    "#                 return 'Cytotoxic NK Cell'  \n",
    "            \n",
    "#             elif ('CD69' in row and row['CD69'] == 1) and ('GRANZYME' in row and row['GRANZYME'] == 0):\n",
    "#                 return 'Activated NK Cell'\n",
    "            \n",
    "#             return 'NK Cell'\n",
    "\n",
    "\n",
    "#     # T cells section, first check for CD3\n",
    "#     if 'CD3' in row and row['CD3'] == 1:\n",
    "#         if 'NK1.1'in row and row['NK1.1'] ==1:\n",
    "#             return 'NKT Cell'\n",
    "#         if 'CD8'in row and row['CD8'] ==1:\n",
    "#             return 'Cytotoxic T Cell'\n",
    "#         if 'CD4' in row and row['CD4'] ==1:\n",
    "#             if 'T-BET' in row and row['T-BET'] == 1:\n",
    "#                 return 'Th1 Cell'\n",
    "#             if 'FOXP3' in row and row['FOXP3'] == 1: #might need to check for CD25 too\n",
    "#                 return 'Treg Cell'\n",
    "    \n",
    "#             return 'Helper T Cell'\n",
    "    \n",
    "\n",
    "#     return 'Other'"
   ]
  },
  {
   "cell_type": "code",
   "execution_count": 3,
   "id": "affc5213",
   "metadata": {},
   "outputs": [],
   "source": [
    "# # df['label'] = df.apply(assign_label, axis=1)\n",
    "\n",
    "# from IPython.display import FileLink\n",
    "\n",
    "# # test1['LABEL'] = test1.apply(row_labeler, axis=1)\n",
    "\n",
    "# # Save CSV\n",
    "# test1.to_csv('final_output.csv', index=False)\n",
    "\n",
    "# # Display a download link in the notebook\n",
    "# FileLink('final_output.csv')\n"
   ]
  },
  {
   "cell_type": "code",
   "execution_count": 4,
   "id": "8cced092",
   "metadata": {},
   "outputs": [
    {
     "data": {
      "application/vnd.microsoft.datawrangler.viewer.v0+json": {
       "columns": [
        {
         "name": "index",
         "rawType": "int64",
         "type": "integer"
        },
        {
         "name": "Position X",
         "rawType": "float64",
         "type": "float"
        },
        {
         "name": "Position Y",
         "rawType": "float64",
         "type": "float"
        },
        {
         "name": "CD3",
         "rawType": "int64",
         "type": "integer"
        },
        {
         "name": "CD4",
         "rawType": "int64",
         "type": "integer"
        },
        {
         "name": "Foxp3",
         "rawType": "int64",
         "type": "integer"
        },
        {
         "name": "NK1.1",
         "rawType": "int64",
         "type": "integer"
        }
       ],
       "conversionMethod": "pd.DataFrame",
       "ref": "09f11915-1505-41fa-8476-724538c680ee",
       "rows": [
        [
         "0",
         "55878.777",
         "41778.797",
         "0",
         "1",
         "0",
         "0"
        ],
        [
         "1",
         "57359.824",
         "40297.508",
         "0",
         "1",
         "0",
         "0"
        ],
        [
         "2",
         "56290.895",
         "41362.34",
         "0",
         "1",
         "0",
         "0"
        ],
        [
         "3",
         "56432.293",
         "41224.496",
         "0",
         "1",
         "0",
         "0"
        ],
        [
         "4",
         "55830.648",
         "41824.309",
         "0",
         "1",
         "0",
         "0"
        ],
        [
         "5",
         "56446.129",
         "41210.715",
         "0",
         "1",
         "0",
         "0"
        ],
        [
         "6",
         "56878.461",
         "40779.797",
         "0",
         "1",
         "0",
         "0"
        ],
        [
         "7",
         "55724.754",
         "41931.93",
         "0",
         "1",
         "0",
         "0"
        ],
        [
         "8",
         "55630.605",
         "42030.855",
         "0",
         "0",
         "0",
         "0"
        ],
        [
         "9",
         "56920.711",
         "40736.898",
         "0",
         "0",
         "0",
         "0"
        ],
        [
         "10",
         "55933.332",
         "41725.762",
         "0",
         "1",
         "0",
         "0"
        ],
        [
         "11",
         "55882.617",
         "41774.57",
         "0",
         "1",
         "0",
         "0"
        ],
        [
         "12",
         "57367.984",
         "40290.301",
         "0",
         "1",
         "0",
         "0"
        ],
        [
         "13",
         "55581.516",
         "42081.227",
         "0",
         "0",
         "0",
         "0"
        ],
        [
         "14",
         "55636.113",
         "42023.359",
         "0",
         "0",
         "0",
         "0"
        ],
        [
         "15",
         "56974.297",
         "40688.297",
         "0",
         "1",
         "0",
         "0"
        ],
        [
         "16",
         "56250.445",
         "41408.449",
         "0",
         "0",
         "0",
         "0"
        ],
        [
         "17",
         "56415.422",
         "41245.434",
         "0",
         "1",
         "1",
         "1"
        ],
        [
         "18",
         "57403.641",
         "40254.629",
         "0",
         "1",
         "0",
         "0"
        ],
        [
         "19",
         "55859.852",
         "41799.164",
         "0",
         "1",
         "0",
         "0"
        ],
        [
         "20",
         "57353.707",
         "40306.516",
         "0",
         "0",
         "0",
         "0"
        ],
        [
         "21",
         "57117.301",
         "40543.32",
         "0",
         "0",
         "0",
         "0"
        ],
        [
         "22",
         "56152.641",
         "41508.348",
         "0",
         "0",
         "0",
         "0"
        ],
        [
         "23",
         "56068.223",
         "41592.359",
         "0",
         "1",
         "0",
         "0"
        ],
        [
         "24",
         "56636.074",
         "41023.852",
         "0",
         "1",
         "0",
         "0"
        ],
        [
         "25",
         "56465.699",
         "41195.344",
         "0",
         "0",
         "0",
         "0"
        ],
        [
         "26",
         "56891.766",
         "40770.223",
         "0",
         "0",
         "0",
         "0"
        ],
        [
         "27",
         "55689.555",
         "41974.848",
         "0",
         "1",
         "0",
         "0"
        ],
        [
         "28",
         "56980.969",
         "40681.113",
         "0",
         "1",
         "0",
         "0"
        ],
        [
         "29",
         "56293.059",
         "41370.391",
         "0",
         "0",
         "0",
         "0"
        ],
        [
         "30",
         "55999.66",
         "41662.125",
         "1",
         "1",
         "0",
         "0"
        ],
        [
         "31",
         "56692.27",
         "40967.238",
         "0",
         "0",
         "0",
         "0"
        ],
        [
         "32",
         "55991.656",
         "41672.445",
         "0",
         "1",
         "0",
         "0"
        ],
        [
         "33",
         "56701.766",
         "40960.211",
         "0",
         "0",
         "0",
         "0"
        ],
        [
         "34",
         "55975.48",
         "41690.367",
         "0",
         "1",
         "0",
         "0"
        ],
        [
         "35",
         "57452.004",
         "40212.0",
         "0",
         "1",
         "0",
         "0"
        ],
        [
         "36",
         "55802.129",
         "41864.715",
         "0",
         "0",
         "0",
         "0"
        ],
        [
         "37",
         "56642.086",
         "41022.887",
         "0",
         "1",
         "0",
         "0"
        ],
        [
         "38",
         "56039.035",
         "41623.848",
         "0",
         "0",
         "0",
         "0"
        ],
        [
         "39",
         "55924.664",
         "41739.59",
         "0",
         "1",
         "0",
         "0"
        ],
        [
         "40",
         "55859.887",
         "41806.223",
         "0",
         "1",
         "0",
         "0"
        ],
        [
         "41",
         "56607.742",
         "41054.105",
         "0",
         "0",
         "0",
         "0"
        ],
        [
         "42",
         "57126.43",
         "40538.598",
         "0",
         "1",
         "0",
         "0"
        ],
        [
         "43",
         "56043.23",
         "41624.883",
         "0",
         "0",
         "0",
         "0"
        ],
        [
         "44",
         "55875.695",
         "41789.676",
         "0",
         "1",
         "0",
         "0"
        ],
        [
         "45",
         "56454.117",
         "41211.297",
         "0",
         "1",
         "0",
         "0"
        ],
        [
         "46",
         "55826.812",
         "41836.477",
         "0",
         "1",
         "0",
         "0"
        ],
        [
         "47",
         "56908.82",
         "40754.352",
         "0",
         "0",
         "0",
         "0"
        ],
        [
         "48",
         "56967.895",
         "40697.234",
         "0",
         "0",
         "0",
         "0"
        ],
        [
         "49",
         "55967.348",
         "41699.453",
         "0",
         "1",
         "0",
         "0"
        ]
       ],
       "shape": {
        "columns": 6,
        "rows": 114269
       }
      },
      "text/html": [
       "<div>\n",
       "<style scoped>\n",
       "    .dataframe tbody tr th:only-of-type {\n",
       "        vertical-align: middle;\n",
       "    }\n",
       "\n",
       "    .dataframe tbody tr th {\n",
       "        vertical-align: top;\n",
       "    }\n",
       "\n",
       "    .dataframe thead th {\n",
       "        text-align: right;\n",
       "    }\n",
       "</style>\n",
       "<table border=\"1\" class=\"dataframe\">\n",
       "  <thead>\n",
       "    <tr style=\"text-align: right;\">\n",
       "      <th></th>\n",
       "      <th>Position X</th>\n",
       "      <th>Position Y</th>\n",
       "      <th>CD3</th>\n",
       "      <th>CD4</th>\n",
       "      <th>Foxp3</th>\n",
       "      <th>NK1.1</th>\n",
       "    </tr>\n",
       "  </thead>\n",
       "  <tbody>\n",
       "    <tr>\n",
       "      <th>0</th>\n",
       "      <td>55878.777</td>\n",
       "      <td>41778.797</td>\n",
       "      <td>0</td>\n",
       "      <td>1</td>\n",
       "      <td>0</td>\n",
       "      <td>0</td>\n",
       "    </tr>\n",
       "    <tr>\n",
       "      <th>1</th>\n",
       "      <td>57359.824</td>\n",
       "      <td>40297.508</td>\n",
       "      <td>0</td>\n",
       "      <td>1</td>\n",
       "      <td>0</td>\n",
       "      <td>0</td>\n",
       "    </tr>\n",
       "    <tr>\n",
       "      <th>2</th>\n",
       "      <td>56290.895</td>\n",
       "      <td>41362.340</td>\n",
       "      <td>0</td>\n",
       "      <td>1</td>\n",
       "      <td>0</td>\n",
       "      <td>0</td>\n",
       "    </tr>\n",
       "    <tr>\n",
       "      <th>3</th>\n",
       "      <td>56432.293</td>\n",
       "      <td>41224.496</td>\n",
       "      <td>0</td>\n",
       "      <td>1</td>\n",
       "      <td>0</td>\n",
       "      <td>0</td>\n",
       "    </tr>\n",
       "    <tr>\n",
       "      <th>4</th>\n",
       "      <td>55830.648</td>\n",
       "      <td>41824.309</td>\n",
       "      <td>0</td>\n",
       "      <td>1</td>\n",
       "      <td>0</td>\n",
       "      <td>0</td>\n",
       "    </tr>\n",
       "    <tr>\n",
       "      <th>...</th>\n",
       "      <td>...</td>\n",
       "      <td>...</td>\n",
       "      <td>...</td>\n",
       "      <td>...</td>\n",
       "      <td>...</td>\n",
       "      <td>...</td>\n",
       "    </tr>\n",
       "    <tr>\n",
       "      <th>114264</th>\n",
       "      <td>53369.691</td>\n",
       "      <td>38341.012</td>\n",
       "      <td>0</td>\n",
       "      <td>1</td>\n",
       "      <td>0</td>\n",
       "      <td>0</td>\n",
       "    </tr>\n",
       "    <tr>\n",
       "      <th>114265</th>\n",
       "      <td>53274.793</td>\n",
       "      <td>38437.641</td>\n",
       "      <td>0</td>\n",
       "      <td>0</td>\n",
       "      <td>0</td>\n",
       "      <td>0</td>\n",
       "    </tr>\n",
       "    <tr>\n",
       "      <th>114266</th>\n",
       "      <td>53579.414</td>\n",
       "      <td>38130.742</td>\n",
       "      <td>0</td>\n",
       "      <td>1</td>\n",
       "      <td>0</td>\n",
       "      <td>0</td>\n",
       "    </tr>\n",
       "    <tr>\n",
       "      <th>114267</th>\n",
       "      <td>53456.289</td>\n",
       "      <td>38254.949</td>\n",
       "      <td>0</td>\n",
       "      <td>1</td>\n",
       "      <td>0</td>\n",
       "      <td>0</td>\n",
       "    </tr>\n",
       "    <tr>\n",
       "      <th>114268</th>\n",
       "      <td>53551.980</td>\n",
       "      <td>38157.867</td>\n",
       "      <td>0</td>\n",
       "      <td>0</td>\n",
       "      <td>0</td>\n",
       "      <td>0</td>\n",
       "    </tr>\n",
       "  </tbody>\n",
       "</table>\n",
       "<p>114269 rows × 6 columns</p>\n",
       "</div>"
      ],
      "text/plain": [
       "        Position X  Position Y  CD3  CD4  Foxp3  NK1.1\n",
       "0        55878.777   41778.797    0    1      0      0\n",
       "1        57359.824   40297.508    0    1      0      0\n",
       "2        56290.895   41362.340    0    1      0      0\n",
       "3        56432.293   41224.496    0    1      0      0\n",
       "4        55830.648   41824.309    0    1      0      0\n",
       "...            ...         ...  ...  ...    ...    ...\n",
       "114264   53369.691   38341.012    0    1      0      0\n",
       "114265   53274.793   38437.641    0    0      0      0\n",
       "114266   53579.414   38130.742    0    1      0      0\n",
       "114267   53456.289   38254.949    0    1      0      0\n",
       "114268   53551.980   38157.867    0    0      0      0\n",
       "\n",
       "[114269 rows x 6 columns]"
      ]
     },
     "execution_count": 4,
     "metadata": {},
     "output_type": "execute_result"
    }
   ],
   "source": [
    "# old non uppercase code\n",
    "import pandas as pd\n",
    "import os\n",
    "\n",
    "def merge_protein_csvs(folder_path):\n",
    "    # Step 1: Get all CSVs\n",
    "    csv_files = [f for f in os.listdir(folder_path) if f.endswith('.csv')]\n",
    "\n",
    "    # Step 2: Identify the DAPI file (case-insensitive search)\n",
    "    dapi_file = next((f for f in csv_files if 'dapi' in f.lower()), None)\n",
    "    if not dapi_file:\n",
    "        raise ValueError(\"No DAPI file found in folder.\")\n",
    "\n",
    "    # Step 3: Load DAPI DataFrame as base\n",
    "    dapi_df = pd.read_csv(os.path.join(folder_path, dapi_file), skiprows=3)\n",
    "    dapi_df.columns = [col.strip().rstrip(',') for col in dapi_df.columns]\n",
    "    dapi_df = dapi_df[['Position X', 'Position Y']].drop_duplicates()\n",
    "    \n",
    "    # Ensure we don't modify DAPI filename in the loop\n",
    "    remaining_files = [f for f in csv_files if f != dapi_file]\n",
    "\n",
    "    # Step 4: Process each protein file\n",
    "    for file in remaining_files:\n",
    "        filepath = os.path.join(folder_path, file)\n",
    "        df = pd.read_csv(filepath, skiprows=3)\n",
    "        df.columns = [col.strip().rstrip(',') for col in df.columns]\n",
    "        \n",
    "        # Drop duplicates just in case\n",
    "        df = df[['Position X', 'Position Y']].drop_duplicates()\n",
    "        \n",
    "        # Extract protein name from filename\n",
    "        protein_name = file.split('_')[0]\n",
    "        \n",
    "        # Mark presence of (X,Y) in current protein file\n",
    "        df[protein_name] = 1\n",
    "        \n",
    "        # Merge into base (DAPI) on X and Y\n",
    "        dapi_df = dapi_df.merge(df, on=['Position X', 'Position Y'], how='left')\n",
    "    \n",
    "    # Step 5: Replace NaN with 0 in presence columns\n",
    "    presence_cols = [col for col in dapi_df.columns if col not in ['Position X', 'Position Y']]\n",
    "    dapi_df[presence_cols] = dapi_df[presence_cols].fillna(0).astype(int)\n",
    "\n",
    "    return dapi_df\n",
    "\n",
    "folder_path = './data/'\n",
    "test1 = merge_protein_csvs(folder_path)\n",
    "test1"
   ]
  },
  {
   "cell_type": "code",
   "execution_count": 17,
   "id": "83f0e2c2",
   "metadata": {},
   "outputs": [],
   "source": [
    "# # cell border experimental code: \n",
    "\n",
    "# import pandas as pd\n",
    "# import numpy as np\n",
    "# from scipy.spatial import ConvexHull\n",
    "\n",
    "# # 1) Load your data\n",
    "# df = test1      # columns “x” and “y”\n",
    "# pts = df[['POSITION X', 'POSITION Y']].values             # shape (N,2) array\n",
    "\n",
    "# # 2) Compute the convex hull\n",
    "# hull = ConvexHull(pts)\n",
    "\n",
    "# # hull.simplices is an (E,2) array of index pairs (i, j)\n",
    "# # each representing an edge between pts[i] and pts[j].\n",
    "# edges = hull.simplices\n",
    "\n",
    "# # 3) Define a vectorized distance‐to‐segment function\n",
    "# def point_to_segment_distances(points, seg_start, seg_end):\n",
    "#     \"\"\"\n",
    "#     points: (N,2) array\n",
    "#     seg_start, seg_end: each (2,) array\n",
    "#     returns: (N,) array of distances from each point to the segment\n",
    "#     \"\"\"\n",
    "#     v = seg_end - seg_start                      # (2,)\n",
    "#     w = points - seg_start                       # (N,2)\n",
    "#     # projection factor of each point onto the infinite line\n",
    "#     t = np.einsum('ij,j->i', w, v) / np.dot(v, v)\n",
    "#     # clamp to [0,1] so we “snap” to the segment\n",
    "#     t_clamped = np.clip(t, 0.0, 1.0)             # (N,)\n",
    "#     proj = seg_start + t_clamped[:,None] * v     # (N,2)\n",
    "#     # euclidean distance from each point to its projection\n",
    "#     return np.linalg.norm(points - proj, axis=1)\n",
    "\n",
    "# # 4) Loop over edges, keep the minimum distance per point\n",
    "# all_dists = np.full(len(pts), np.inf)\n",
    "# for i, j in edges:\n",
    "#     start, end = pts[i], pts[j]\n",
    "#     d = point_to_segment_distances(pts, start, end)\n",
    "#     all_dists = np.minimum(all_dists, d)\n",
    "\n",
    "# # 5) Attach back to your DataFrame\n",
    "# df['dist_to_hull'] = all_dists\n",
    "\n",
    "# # 6) (Optional) Inspect\n",
    "# df\n"
   ]
  },
  {
   "cell_type": "code",
   "execution_count": 16,
   "id": "6b98c170",
   "metadata": {},
   "outputs": [
    {
     "data": {
      "application/vnd.microsoft.datawrangler.viewer.v0+json": {
       "columns": [
        {
         "name": "ID",
         "rawType": "int64",
         "type": "integer"
        },
        {
         "name": "Position X",
         "rawType": "float64",
         "type": "float"
        },
        {
         "name": "Position Y",
         "rawType": "float64",
         "type": "float"
        },
        {
         "name": "Position Z",
         "rawType": "float64",
         "type": "float"
        },
        {
         "name": "Shortest Distance to Surfaces",
         "rawType": "float64",
         "type": "float"
        }
       ],
       "conversionMethod": "pd.DataFrame",
       "ref": "273bebe0-79b5-4d22-97a8-7b28b3d917fd",
       "rows": [
        [
         "0",
         "87286.352",
         "39678.461",
         "2.373",
         "256.589"
        ],
        [
         "21",
         "87067.141",
         "39897.441",
         "2.333",
         "205.241"
        ],
        [
         "70",
         "87082.531",
         "39892.945",
         "2.081",
         "209.912"
        ],
        [
         "292",
         "87395.414",
         "39635.039",
         "4.682",
         "180.723"
        ],
        [
         "622",
         "87085.406",
         "40034.551",
         "6.22",
         "69.469"
        ],
        [
         "964",
         "87148.984",
         "40115.203",
         "5.12",
         "0.0"
        ],
        [
         "979",
         "87187.234",
         "40079.754",
         "6.397",
         "14.031"
        ],
        [
         "1048",
         "87173.195",
         "40142.145",
         "6.751",
         "3.764"
        ],
        [
         "1101",
         "87386.43",
         "39995.387",
         "5.683",
         "0.844"
        ],
        [
         "1112",
         "86661.25",
         "40081.828",
         "1.133",
         "11.811"
        ],
        [
         "1282",
         "86849.891",
         "39921.531",
         "6.655",
         "194.553"
        ],
        [
         "1302",
         "87204.711",
         "39570.426",
         "3.876",
         "380.273"
        ],
        [
         "1311",
         "87173.18",
         "39603.719",
         "2.654",
         "393.358"
        ],
        [
         "1312",
         "87114.43",
         "39661.395",
         "1.552",
         "409.402"
        ],
        [
         "1321",
         "87119.664",
         "39655.211",
         "0.75",
         "412.99"
        ],
        [
         "1352",
         "86637.898",
         "40142.176",
         "3.028",
         "0.0"
        ],
        [
         "1385",
         "87135.0",
         "39647.887",
         "6.345",
         "408.124"
        ],
        [
         "1461",
         "86691.188",
         "40106.121",
         "6.377",
         "2.378"
        ],
        [
         "1467",
         "87101.867",
         "39696.086",
         "2.594",
         "386.503"
        ],
        [
         "1496",
         "86783.055",
         "40021.27",
         "3.061",
         "90.802"
        ],
        [
         "1621",
         "86690.062",
         "40133.766",
         "2.79",
         "0.0"
        ],
        [
         "1689",
         "87260.125",
         "39578.844",
         "2.928",
         "326.359"
        ],
        [
         "1697",
         "87253.586",
         "39581.418",
         "1.794",
         "332.861"
        ],
        [
         "1874",
         "87245.375",
         "39626.191",
         "1.437",
         "319.482"
        ],
        [
         "2095",
         "86891.531",
         "40025.582",
         "4.497",
         "93.041"
        ],
        [
         "2107",
         "87003.18",
         "39915.148",
         "3.837",
         "194.957"
        ],
        [
         "2144",
         "86871.492",
         "40050.23",
         "6.74",
         "69.484"
        ],
        [
         "2203",
         "87001.461",
         "39930.766",
         "6.341",
         "181.602"
        ],
        [
         "2229",
         "86929.25",
         "40009.305",
         "6.448",
         "111.323"
        ],
        [
         "2240",
         "87039.133",
         "39903.918",
         "1.482",
         "203.03"
        ],
        [
         "2372",
         "87387.008",
         "39197.969",
         "3.927",
         "471.546"
        ],
        [
         "2400",
         "86914.336",
         "39669.715",
         "5.844",
         "450.388"
        ],
        [
         "2453",
         "86980.133",
         "39617.406",
         "3.407",
         "491.881"
        ],
        [
         "2459",
         "86555.18",
         "40042.336",
         "5.111",
         "8.533"
        ],
        [
         "2475",
         "87340.094",
         "39257.988",
         "5.134",
         "456.141"
        ],
        [
         "2495",
         "86966.148",
         "39629.98",
         "6.598",
         "483.728"
        ],
        [
         "2647",
         "86682.758",
         "39933.754",
         "5.747",
         "158.475"
        ],
        [
         "2697",
         "87231.633",
         "39394.832",
         "2.287",
         "442.04"
        ],
        [
         "2706",
         "86664.508",
         "39969.461",
         "4.771",
         "117.824"
        ],
        [
         "2766",
         "86962.023",
         "39674.668",
         "3.009",
         "435.483"
        ],
        [
         "2840",
         "87190.859",
         "39452.012",
         "6.083",
         "449.313"
        ],
        [
         "2864",
         "86673.844",
         "39970.887",
         "5.467",
         "121.295"
        ],
        [
         "2878",
         "86927.82",
         "39716.453",
         "6.701",
         "402.089"
        ],
        [
         "2891",
         "86970.086",
         "39681.168",
         "5.65",
         "429.766"
        ],
        [
         "2934",
         "86859.227",
         "39798.918",
         "3.101",
         "318.57"
        ],
        [
         "2939",
         "86975.953",
         "39680.332",
         "0.764",
         "432.583"
        ],
        [
         "2961",
         "86960.117",
         "39703.449",
         "4.146",
         "408.096"
        ],
        [
         "2989",
         "86977.273",
         "39686.043",
         "4.131",
         "425.181"
        ],
        [
         "3007",
         "86810.766",
         "39852.434",
         "6.751",
         "261.55"
        ],
        [
         "3035",
         "86957.562",
         "39708.84",
         "6.171",
         "405.717"
        ]
       ],
       "shape": {
        "columns": 4,
        "rows": 2016
       }
      },
      "text/html": [
       "<div>\n",
       "<style scoped>\n",
       "    .dataframe tbody tr th:only-of-type {\n",
       "        vertical-align: middle;\n",
       "    }\n",
       "\n",
       "    .dataframe tbody tr th {\n",
       "        vertical-align: top;\n",
       "    }\n",
       "\n",
       "    .dataframe thead th {\n",
       "        text-align: right;\n",
       "    }\n",
       "</style>\n",
       "<table border=\"1\" class=\"dataframe\">\n",
       "  <thead>\n",
       "    <tr style=\"text-align: right;\">\n",
       "      <th></th>\n",
       "      <th>Position X</th>\n",
       "      <th>Position Y</th>\n",
       "      <th>Position Z</th>\n",
       "      <th>Shortest Distance to Surfaces</th>\n",
       "    </tr>\n",
       "    <tr>\n",
       "      <th>ID</th>\n",
       "      <th></th>\n",
       "      <th></th>\n",
       "      <th></th>\n",
       "      <th></th>\n",
       "    </tr>\n",
       "  </thead>\n",
       "  <tbody>\n",
       "    <tr>\n",
       "      <th>0</th>\n",
       "      <td>87286.352</td>\n",
       "      <td>39678.461</td>\n",
       "      <td>2.373</td>\n",
       "      <td>256.589</td>\n",
       "    </tr>\n",
       "    <tr>\n",
       "      <th>21</th>\n",
       "      <td>87067.141</td>\n",
       "      <td>39897.441</td>\n",
       "      <td>2.333</td>\n",
       "      <td>205.241</td>\n",
       "    </tr>\n",
       "    <tr>\n",
       "      <th>70</th>\n",
       "      <td>87082.531</td>\n",
       "      <td>39892.945</td>\n",
       "      <td>2.081</td>\n",
       "      <td>209.912</td>\n",
       "    </tr>\n",
       "    <tr>\n",
       "      <th>292</th>\n",
       "      <td>87395.414</td>\n",
       "      <td>39635.039</td>\n",
       "      <td>4.682</td>\n",
       "      <td>180.723</td>\n",
       "    </tr>\n",
       "    <tr>\n",
       "      <th>622</th>\n",
       "      <td>87085.406</td>\n",
       "      <td>40034.551</td>\n",
       "      <td>6.220</td>\n",
       "      <td>69.469</td>\n",
       "    </tr>\n",
       "    <tr>\n",
       "      <th>...</th>\n",
       "      <td>...</td>\n",
       "      <td>...</td>\n",
       "      <td>...</td>\n",
       "      <td>...</td>\n",
       "    </tr>\n",
       "    <tr>\n",
       "      <th>58723</th>\n",
       "      <td>87405.586</td>\n",
       "      <td>37086.035</td>\n",
       "      <td>1.955</td>\n",
       "      <td>128.012</td>\n",
       "    </tr>\n",
       "    <tr>\n",
       "      <th>58724</th>\n",
       "      <td>87411.445</td>\n",
       "      <td>37113.520</td>\n",
       "      <td>1.206</td>\n",
       "      <td>156.499</td>\n",
       "    </tr>\n",
       "    <tr>\n",
       "      <th>58725</th>\n",
       "      <td>87410.750</td>\n",
       "      <td>37127.992</td>\n",
       "      <td>3.233</td>\n",
       "      <td>169.250</td>\n",
       "    </tr>\n",
       "    <tr>\n",
       "      <th>58730</th>\n",
       "      <td>87404.609</td>\n",
       "      <td>37051.000</td>\n",
       "      <td>5.010</td>\n",
       "      <td>93.720</td>\n",
       "    </tr>\n",
       "    <tr>\n",
       "      <th>58731</th>\n",
       "      <td>87403.703</td>\n",
       "      <td>37072.109</td>\n",
       "      <td>1.761</td>\n",
       "      <td>114.664</td>\n",
       "    </tr>\n",
       "  </tbody>\n",
       "</table>\n",
       "<p>2016 rows × 4 columns</p>\n",
       "</div>"
      ],
      "text/plain": [
       "       Position X  Position Y  Position Z  Shortest Distance to Surfaces\n",
       "ID                                                                      \n",
       "0       87286.352   39678.461       2.373                        256.589\n",
       "21      87067.141   39897.441       2.333                        205.241\n",
       "70      87082.531   39892.945       2.081                        209.912\n",
       "292     87395.414   39635.039       4.682                        180.723\n",
       "622     87085.406   40034.551       6.220                         69.469\n",
       "...           ...         ...         ...                            ...\n",
       "58723   87405.586   37086.035       1.955                        128.012\n",
       "58724   87411.445   37113.520       1.206                        156.499\n",
       "58725   87410.750   37127.992       3.233                        169.250\n",
       "58730   87404.609   37051.000       5.010                         93.720\n",
       "58731   87403.703   37072.109       1.761                        114.664\n",
       "\n",
       "[2016 rows x 4 columns]"
      ]
     },
     "execution_count": 16,
     "metadata": {},
     "output_type": "execute_result"
    }
   ],
   "source": [
    "cd3_position = pd.read_csv('edge_test/tumor edge test CD3 position_Selection.csv' , skiprows=3)\n",
    "cd3_position.drop(columns=['Unit', 'Category',\n",
    "       'Collection', 'Time', 'CC3 catchall', 'CC3 real', 'CD103',\n",
    "       'CD103+ cDC1', 'CD3','CD177','CD3-CD68', 'CD3-CD68+CD206', 'CD4',\n",
    "       'CD45',  'Unnamed: 18'], inplace=True)\n",
    "\n",
    "cd3_distance = pd.read_csv('edge_test/tumor edge test_CD3 distance to tumor edge_Selection.csv' , skiprows=3)\n",
    "cd3_distance.drop(columns=['Category', 'Surfaces', 'Time',\n",
    "       'CC3 catchall', 'CC3 real', 'CD103', 'CD103+ cDC1', 'CD177', 'CD3',\n",
    "       'CD3-CD68', 'CD3-CD68+CD206', 'Unit','CD4', 'CD45', 'Unnamed: 16'], inplace=True)\n",
    "\n",
    "# cd3_position.head()\n",
    "cd3_final = cd3_position.merge(cd3_distance, on=[\"ID\"], how='left').sort_values(by=['ID'], ascending=True)\n",
    "cd3_final =  cd3_final[['ID','Position X', 'Position Y', 'Position Z',\n",
    "       'Shortest Distance to Surfaces']].set_index('ID')\n",
    "cd3_final"
   ]
  },
  {
   "cell_type": "code",
   "execution_count": 8,
   "id": "d25f8551",
   "metadata": {},
   "outputs": [
    {
     "name": "stderr",
     "output_type": "stream",
     "text": [
      "/var/folders/bv/7wzy33ls6ln4ydwr6s8vwq8h0000gn/T/ipykernel_90988/740210039.py:1: DtypeWarning: Columns (8,9,10,11,12,13,14,15) have mixed types. Specify dtype option on import or set low_memory=False.\n",
      "  dapi2_position = pd.read_csv('edge_test/tumor edge test DAPI position_Selection.csv' , skiprows=3)\n"
     ]
    },
    {
     "data": {
      "application/vnd.microsoft.datawrangler.viewer.v0+json": {
       "columns": [
        {
         "name": "ID",
         "rawType": "int64",
         "type": "integer"
        },
        {
         "name": "Position X",
         "rawType": "float64",
         "type": "float"
        },
        {
         "name": "Position Y",
         "rawType": "float64",
         "type": "float"
        },
        {
         "name": "Position Z",
         "rawType": "float64",
         "type": "float"
        },
        {
         "name": "Shortest Distance to Surfaces",
         "rawType": "float64",
         "type": "float"
        }
       ],
       "conversionMethod": "pd.DataFrame",
       "ref": "13ac9cbf-87b6-488e-be3d-cd12bd49d7d0",
       "rows": [
        [
         "0",
         "87286.352",
         "39678.461",
         "2.373",
         "256.589"
        ],
        [
         "1",
         "87253.484",
         "39703.367",
         "6.589",
         "279.778"
        ],
        [
         "2",
         "87024.227",
         "39933.77",
         "6.702",
         "174.885"
        ],
        [
         "3",
         "86896.992",
         "40064.652",
         "5.901",
         "55.385"
        ],
        [
         "4",
         "87015.5",
         "39945.977",
         "5.861",
         "164.362"
        ]
       ],
       "shape": {
        "columns": 4,
        "rows": 5
       }
      },
      "text/html": [
       "<div>\n",
       "<style scoped>\n",
       "    .dataframe tbody tr th:only-of-type {\n",
       "        vertical-align: middle;\n",
       "    }\n",
       "\n",
       "    .dataframe tbody tr th {\n",
       "        vertical-align: top;\n",
       "    }\n",
       "\n",
       "    .dataframe thead th {\n",
       "        text-align: right;\n",
       "    }\n",
       "</style>\n",
       "<table border=\"1\" class=\"dataframe\">\n",
       "  <thead>\n",
       "    <tr style=\"text-align: right;\">\n",
       "      <th></th>\n",
       "      <th>Position X</th>\n",
       "      <th>Position Y</th>\n",
       "      <th>Position Z</th>\n",
       "      <th>Shortest Distance to Surfaces</th>\n",
       "    </tr>\n",
       "    <tr>\n",
       "      <th>ID</th>\n",
       "      <th></th>\n",
       "      <th></th>\n",
       "      <th></th>\n",
       "      <th></th>\n",
       "    </tr>\n",
       "  </thead>\n",
       "  <tbody>\n",
       "    <tr>\n",
       "      <th>0</th>\n",
       "      <td>87286.352</td>\n",
       "      <td>39678.461</td>\n",
       "      <td>2.373</td>\n",
       "      <td>256.589</td>\n",
       "    </tr>\n",
       "    <tr>\n",
       "      <th>1</th>\n",
       "      <td>87253.484</td>\n",
       "      <td>39703.367</td>\n",
       "      <td>6.589</td>\n",
       "      <td>279.778</td>\n",
       "    </tr>\n",
       "    <tr>\n",
       "      <th>2</th>\n",
       "      <td>87024.227</td>\n",
       "      <td>39933.770</td>\n",
       "      <td>6.702</td>\n",
       "      <td>174.885</td>\n",
       "    </tr>\n",
       "    <tr>\n",
       "      <th>3</th>\n",
       "      <td>86896.992</td>\n",
       "      <td>40064.652</td>\n",
       "      <td>5.901</td>\n",
       "      <td>55.385</td>\n",
       "    </tr>\n",
       "    <tr>\n",
       "      <th>4</th>\n",
       "      <td>87015.500</td>\n",
       "      <td>39945.977</td>\n",
       "      <td>5.861</td>\n",
       "      <td>164.362</td>\n",
       "    </tr>\n",
       "  </tbody>\n",
       "</table>\n",
       "</div>"
      ],
      "text/plain": [
       "    Position X  Position Y  Position Z  Shortest Distance to Surfaces\n",
       "ID                                                                   \n",
       "0    87286.352   39678.461       2.373                        256.589\n",
       "1    87253.484   39703.367       6.589                        279.778\n",
       "2    87024.227   39933.770       6.702                        174.885\n",
       "3    86896.992   40064.652       5.901                         55.385\n",
       "4    87015.500   39945.977       5.861                        164.362"
      ]
     },
     "execution_count": 8,
     "metadata": {},
     "output_type": "execute_result"
    }
   ],
   "source": [
    "dapi2_position = pd.read_csv('edge_test/tumor edge test DAPI position_Selection.csv' , skiprows=3)\n",
    "dapi2_position.drop(columns=['Unit', 'Category',\n",
    "       'Collection', 'Time', 'CC3 catchall', 'CC3 real', 'CD103',\n",
    "       'CD103+ cDC1', 'CD3','CD177','CD3-CD68', 'CD3-CD68+CD206', 'CD4',\n",
    "       'CD45',  'Unnamed: 18'], inplace=True)\n",
    "\n",
    "dapi2_distance = pd.read_csv('edge_test/tumor edge test_DAPI distance to tumor edge_Selection.csv' , skiprows=3)\n",
    "dapi2_distance.drop(columns=['Category', 'Surfaces', 'Time',\n",
    "       'CC3 catchall', 'CC3 real', 'CD103', 'CD103+ cDC1', 'CD177', 'CD3',\n",
    "       'CD3-CD68', 'CD3-CD68+CD206', 'Unit','CD4', 'CD45', 'Unnamed: 16'], inplace=True)\n",
    "\n",
    "# cd3_position.head()\n",
    "dapi2_final = dapi2_position.merge(dapi2_distance, on=[\"ID\"], how='left').sort_values(by=['ID'], ascending=True)\n",
    "dapi2_final =  dapi2_final[['ID','Position X', 'Position Y', 'Position Z',\n",
    "       'Shortest Distance to Surfaces']].set_index('ID')\n",
    "dapi2_final.head()"
   ]
  },
  {
   "cell_type": "code",
   "execution_count": 15,
   "id": "696b42c9",
   "metadata": {},
   "outputs": [
    {
     "name": "stdout",
     "output_type": "stream",
     "text": [
      "Index(['Position X', 'Position Y', 'Position Z',\n",
      "       'Shortest Distance to Surfaces'],\n",
      "      dtype='object') Index(['Position X', 'Position Y', 'Position Z',\n",
      "       'Shortest Distance to Surfaces', 'dist_to_hull'],\n",
      "      dtype='object')\n"
     ]
    }
   ],
   "source": [
    "print(cd3_final.columns, dapi2_final.columns)"
   ]
  },
  {
   "cell_type": "code",
   "execution_count": 11,
   "id": "aa8b3988",
   "metadata": {},
   "outputs": [
    {
     "data": {
      "application/vnd.microsoft.datawrangler.viewer.v0+json": {
       "columns": [
        {
         "name": "ID",
         "rawType": "int64",
         "type": "integer"
        },
        {
         "name": "Position X",
         "rawType": "float64",
         "type": "float"
        },
        {
         "name": "Position Y",
         "rawType": "float64",
         "type": "float"
        },
        {
         "name": "Position Z",
         "rawType": "float64",
         "type": "float"
        },
        {
         "name": "Shortest Distance to Surfaces",
         "rawType": "float64",
         "type": "float"
        },
        {
         "name": "dist_to_hull",
         "rawType": "float64",
         "type": "float"
        }
       ],
       "conversionMethod": "pd.DataFrame",
       "ref": "5c3b6383-a4da-4452-9abd-e549416fc68e",
       "rows": [
        [
         "0",
         "87286.352",
         "39678.461",
         "2.373",
         "256.589",
         "344.3038286263981"
        ],
        [
         "1",
         "87253.484",
         "39703.367",
         "6.589",
         "279.778",
         "344.72835023279026"
        ],
        [
         "2",
         "87024.227",
         "39933.77",
         "6.702",
         "174.885",
         "227.46908396512052"
        ],
        [
         "3",
         "86896.992",
         "40064.652",
         "5.901",
         "55.385",
         "106.86952624155083"
        ],
        [
         "4",
         "87015.5",
         "39945.977",
         "5.861",
         "164.362",
         "216.58374112827673"
        ],
        [
         "5",
         "86804.281",
         "40160.148",
         "5.513",
         "0.789",
         "3.6627029508436464"
        ],
        [
         "6",
         "87381.523",
         "39581.574",
         "2.148",
         "218.062",
         "361.9991361469104"
        ],
        [
         "7",
         "86917.547",
         "40046.57",
         "5.331",
         "72.494",
         "124.87163706077132"
        ],
        [
         "8",
         "87072.422",
         "39886.09",
         "4.536",
         "216.64",
         "268.0391566562018"
        ],
        [
         "9",
         "87367.484",
         "39595.422",
         "4.103",
         "224.179",
         "359.7387013581106"
        ],
        [
         "10",
         "87103.094",
         "39857.492",
         "4.888",
         "243.029",
         "292.1290155822194"
        ],
        [
         "11",
         "86826.555",
         "40136.082",
         "5.771",
         "0.795",
         "30.201211961926063"
        ],
        [
         "12",
         "87319.078",
         "39643.547",
         "2.453",
         "244.915",
         "351.64737849023135"
        ],
        [
         "13",
         "87189.93",
         "39773.934",
         "3.843",
         "272.068",
         "319.42109072671474"
        ],
        [
         "14",
         "87092.398",
         "39870.5",
         "4.758",
         "229.751",
         "280.7221657483158"
        ],
        [
         "15",
         "87149.453",
         "39817.48",
         "3.871",
         "256.562",
         "304.48127035952166"
        ],
        [
         "16",
         "86938.273",
         "40021.738",
         "6.093",
         "97.118",
         "149.62303359432266"
        ],
        [
         "17",
         "87264.18",
         "39699.695",
         "1.446",
         "270.205",
         "341.2351685425555"
        ],
        [
         "18",
         "87274.219",
         "39691.078",
         "3.832",
         "263.66",
         "341.83898452088323"
        ],
        [
         "19",
         "87167.289",
         "39798.301",
         "5.18",
         "264.543",
         "311.05655774647767"
        ],
        [
         "20",
         "87098.539",
         "39866.188",
         "4.104",
         "234.337",
         "284.1451040966373"
        ],
        [
         "21",
         "87067.141",
         "39897.441",
         "2.333",
         "205.241",
         "257.525892081692"
        ],
        [
         "22",
         "87254.789",
         "39706.824",
         "1.033",
         "277.596",
         "341.11207361267253"
        ],
        [
         "23",
         "87207.062",
         "39759.258",
         "3.504",
         "276.801",
         "322.5788479610792"
        ],
        [
         "24",
         "87198.547",
         "39767.492",
         "3.908",
         "274.988",
         "320.21717976079856"
        ],
        [
         "25",
         "87138.477",
         "39825.551",
         "5.445",
         "256.118",
         "303.5806897271606"
        ],
        [
         "26",
         "86885.258",
         "40076.539",
         "6.751",
         "45.423",
         "95.02814345120363"
        ],
        [
         "27",
         "87293.836",
         "39671.324",
         "3.326",
         "255.988",
         "345.31569760896156"
        ],
        [
         "28",
         "87218.227",
         "39749.199",
         "3.923",
         "277.395",
         "325.05372527960907"
        ],
        [
         "29",
         "87315.781",
         "39652.219",
         "3.653",
         "243.304",
         "346.8470971483893"
        ],
        [
         "30",
         "86959.0",
         "40004.836",
         "5.583",
         "110.873",
         "166.08822480272786"
        ],
        [
         "31",
         "87056.383",
         "39908.887",
         "2.554",
         "196.655",
         "247.6746453668451"
        ],
        [
         "32",
         "87259.359",
         "39706.152",
         "5.502",
         "271.594",
         "339.11852683595254"
        ],
        [
         "33",
         "87155.539",
         "39809.43",
         "6.21",
         "261.757",
         "307.99428171177055"
        ],
        [
         "34",
         "87074.648",
         "39892.188",
         "1.955",
         "210.211",
         "261.69224200733186"
        ],
        [
         "35",
         "87242.375",
         "39724.883",
         "0.879",
         "274.516",
         "332.5647087863133"
        ],
        [
         "36",
         "87010.523",
         "39961.891",
         "3.634",
         "145.743",
         "201.5091993966591"
        ],
        [
         "37",
         "87032.797",
         "39935.809",
         "3.252",
         "171.851",
         "224.26650566663454"
        ],
        [
         "39",
         "87298.992",
         "39671.758",
         "3.945",
         "249.754",
         "341.7976713717847"
        ],
        [
         "42",
         "86911.102",
         "40055.105",
         "4.439",
         "66.67",
         "116.3617078030893"
        ],
        [
         "43",
         "86847.367",
         "40122.527",
         "6.286",
         "2.28",
         "46.129506119481555"
        ],
        [
         "44",
         "87119.914",
         "39849.734",
         "5.061",
         "245.205",
         "293.17788277861615"
        ],
        [
         "45",
         "86930.055",
         "40038.109",
         "6.214",
         "81.682",
         "133.28404253145348"
        ],
        [
         "46",
         "87103.281",
         "39863.52",
         "5.094",
         "237.13",
         "286.13291775984027"
        ],
        [
         "47",
         "87256.727",
         "39713.379",
         "1.549",
         "271.09",
         "334.54361147436634"
        ],
        [
         "48",
         "87352.133",
         "39620.0",
         "1.912",
         "228.154",
         "349.83403987114616"
        ],
        [
         "49",
         "87359.625",
         "39611.676",
         "2.152",
         "224.271",
         "351.77602612709484"
        ],
        [
         "50",
         "87050.625",
         "39924.07",
         "6.395",
         "180.765",
         "233.43192259118436"
        ],
        [
         "51",
         "87357.195",
         "39614.75",
         "6.417",
         "222.964",
         "350.85142303604204"
        ],
        [
         "52",
         "87336.609",
         "39638.473",
         "3.851",
         "230.269",
         "344.84509040156496"
        ]
       ],
       "shape": {
        "columns": 5,
        "rows": 58733
       }
      },
      "text/html": [
       "<div>\n",
       "<style scoped>\n",
       "    .dataframe tbody tr th:only-of-type {\n",
       "        vertical-align: middle;\n",
       "    }\n",
       "\n",
       "    .dataframe tbody tr th {\n",
       "        vertical-align: top;\n",
       "    }\n",
       "\n",
       "    .dataframe thead th {\n",
       "        text-align: right;\n",
       "    }\n",
       "</style>\n",
       "<table border=\"1\" class=\"dataframe\">\n",
       "  <thead>\n",
       "    <tr style=\"text-align: right;\">\n",
       "      <th></th>\n",
       "      <th>Position X</th>\n",
       "      <th>Position Y</th>\n",
       "      <th>Position Z</th>\n",
       "      <th>Shortest Distance to Surfaces</th>\n",
       "      <th>dist_to_hull</th>\n",
       "    </tr>\n",
       "    <tr>\n",
       "      <th>ID</th>\n",
       "      <th></th>\n",
       "      <th></th>\n",
       "      <th></th>\n",
       "      <th></th>\n",
       "      <th></th>\n",
       "    </tr>\n",
       "  </thead>\n",
       "  <tbody>\n",
       "    <tr>\n",
       "      <th>0</th>\n",
       "      <td>87286.352</td>\n",
       "      <td>39678.461</td>\n",
       "      <td>2.373</td>\n",
       "      <td>256.589</td>\n",
       "      <td>344.303829</td>\n",
       "    </tr>\n",
       "    <tr>\n",
       "      <th>1</th>\n",
       "      <td>87253.484</td>\n",
       "      <td>39703.367</td>\n",
       "      <td>6.589</td>\n",
       "      <td>279.778</td>\n",
       "      <td>344.728350</td>\n",
       "    </tr>\n",
       "    <tr>\n",
       "      <th>2</th>\n",
       "      <td>87024.227</td>\n",
       "      <td>39933.770</td>\n",
       "      <td>6.702</td>\n",
       "      <td>174.885</td>\n",
       "      <td>227.469084</td>\n",
       "    </tr>\n",
       "    <tr>\n",
       "      <th>3</th>\n",
       "      <td>86896.992</td>\n",
       "      <td>40064.652</td>\n",
       "      <td>5.901</td>\n",
       "      <td>55.385</td>\n",
       "      <td>106.869526</td>\n",
       "    </tr>\n",
       "    <tr>\n",
       "      <th>4</th>\n",
       "      <td>87015.500</td>\n",
       "      <td>39945.977</td>\n",
       "      <td>5.861</td>\n",
       "      <td>164.362</td>\n",
       "      <td>216.583741</td>\n",
       "    </tr>\n",
       "    <tr>\n",
       "      <th>...</th>\n",
       "      <td>...</td>\n",
       "      <td>...</td>\n",
       "      <td>...</td>\n",
       "      <td>...</td>\n",
       "      <td>...</td>\n",
       "    </tr>\n",
       "    <tr>\n",
       "      <th>62183</th>\n",
       "      <td>87404.539</td>\n",
       "      <td>36997.043</td>\n",
       "      <td>2.713</td>\n",
       "      <td>40.845</td>\n",
       "      <td>83.511607</td>\n",
       "    </tr>\n",
       "    <tr>\n",
       "      <th>62184</th>\n",
       "      <td>87410.164</td>\n",
       "      <td>37034.875</td>\n",
       "      <td>0.963</td>\n",
       "      <td>78.880</td>\n",
       "      <td>121.603161</td>\n",
       "    </tr>\n",
       "    <tr>\n",
       "      <th>62185</th>\n",
       "      <td>87404.609</td>\n",
       "      <td>37051.000</td>\n",
       "      <td>5.010</td>\n",
       "      <td>93.720</td>\n",
       "      <td>137.361276</td>\n",
       "    </tr>\n",
       "    <tr>\n",
       "      <th>62186</th>\n",
       "      <td>87403.703</td>\n",
       "      <td>37072.109</td>\n",
       "      <td>1.761</td>\n",
       "      <td>114.664</td>\n",
       "      <td>158.368221</td>\n",
       "    </tr>\n",
       "    <tr>\n",
       "      <th>62187</th>\n",
       "      <td>87405.422</td>\n",
       "      <td>36913.301</td>\n",
       "      <td>2.960</td>\n",
       "      <td>0.000</td>\n",
       "      <td>0.000000</td>\n",
       "    </tr>\n",
       "  </tbody>\n",
       "</table>\n",
       "<p>58733 rows × 5 columns</p>\n",
       "</div>"
      ],
      "text/plain": [
       "       Position X  Position Y  Position Z  Shortest Distance to Surfaces  \\\n",
       "ID                                                                         \n",
       "0       87286.352   39678.461       2.373                        256.589   \n",
       "1       87253.484   39703.367       6.589                        279.778   \n",
       "2       87024.227   39933.770       6.702                        174.885   \n",
       "3       86896.992   40064.652       5.901                         55.385   \n",
       "4       87015.500   39945.977       5.861                        164.362   \n",
       "...           ...         ...         ...                            ...   \n",
       "62183   87404.539   36997.043       2.713                         40.845   \n",
       "62184   87410.164   37034.875       0.963                         78.880   \n",
       "62185   87404.609   37051.000       5.010                         93.720   \n",
       "62186   87403.703   37072.109       1.761                        114.664   \n",
       "62187   87405.422   36913.301       2.960                          0.000   \n",
       "\n",
       "       dist_to_hull  \n",
       "ID                   \n",
       "0        344.303829  \n",
       "1        344.728350  \n",
       "2        227.469084  \n",
       "3        106.869526  \n",
       "4        216.583741  \n",
       "...             ...  \n",
       "62183     83.511607  \n",
       "62184    121.603161  \n",
       "62185    137.361276  \n",
       "62186    158.368221  \n",
       "62187      0.000000  \n",
       "\n",
       "[58733 rows x 5 columns]"
      ]
     },
     "execution_count": 11,
     "metadata": {},
     "output_type": "execute_result"
    }
   ],
   "source": [
    "\n",
    "# 1) Load your data\n",
    "df =  dapi2_final# columns “x” and “y”\n",
    "pts = df[['Position X', 'Position Y']].values             # shape (N,2) array\n",
    "\n",
    "# 2) Compute the convex hull\n",
    "hull = ConvexHull(pts)\n",
    "\n",
    "# hull.simplices is an (E,2) array of index pairs (i, j)\n",
    "# each representing an edge between pts[i] and pts[j].\n",
    "edges = hull.simplices\n",
    "\n",
    "# 3) Define a vectorized distance‐to‐segment function\n",
    "def point_to_segment_distances(points, seg_start, seg_end):\n",
    "    \"\"\"\n",
    "    points: (N,2) array\n",
    "    seg_start, seg_end: each (2,) array\n",
    "    returns: (N,) array of distances from each point to the segment\n",
    "    \"\"\"\n",
    "    v = seg_end - seg_start                      # (2,)\n",
    "    w = points - seg_start                       # (N,2)\n",
    "    # projection factor of each point onto the infinite line\n",
    "    t = np.einsum('ij,j->i', w, v) / np.dot(v, v)\n",
    "    # clamp to [0,1] so we “snap” to the segment\n",
    "    t_clamped = np.clip(t, 0.0, 1.0)             # (N,)\n",
    "    proj = seg_start + t_clamped[:,None] * v     # (N,2)\n",
    "    # euclidean distance from each point to its projection\n",
    "    return np.linalg.norm(points - proj, axis=1)\n",
    "\n",
    "# 4) Loop over edges, keep the minimum distance per point\n",
    "all_dists = np.full(len(pts), np.inf)\n",
    "for i, j in edges:\n",
    "    start, end = pts[i], pts[j]\n",
    "    d = point_to_segment_distances(pts, start, end)\n",
    "    all_dists = np.minimum(all_dists, d)\n",
    "\n",
    "# 5) Attach back to your DataFrame\n",
    "df['dist_to_hull'] = all_dists\n",
    "\n",
    "# 6) (Optional) Inspect\n",
    "df\n"
   ]
  },
  {
   "cell_type": "code",
   "execution_count": 14,
   "id": "589012ef",
   "metadata": {},
   "outputs": [
    {
     "data": {
      "image/png": "[encoded data removed]",
      "text/plain": [
       "<Figure size 800x600 with 1 Axes>"
      ]
     },
     "metadata": {},
     "output_type": "display_data"
    },
    {
     "data": {
      "image/png": "[encoded data removed]",
      "text/plain": [
       "<Figure size 800x600 with 1 Axes>"
      ]
     },
     "metadata": {},
     "output_type": "display_data"
    }
   ],
   "source": [
    "import pandas as pd\n",
    "import seaborn as sns\n",
    "import matplotlib.pyplot as plt\n",
    "\n",
    "# Assuming your DataFrame is in `df`\n",
    "# Melt to long form\n",
    "df_long  = df\n",
    "df_long = df.reset_index().melt(\n",
    "    id_vars=['ID', 'Position X', 'Position Y'],\n",
    "    value_vars=['Shortest Distance to Surfaces', 'dist_to_hull'],\n",
    "    var_name='Distance Type',\n",
    "    value_name='Distance'\n",
    ")\n",
    "\n",
    "# 1) Scatter with semi‑transparent points\n",
    "plt.figure(figsize=(8,6))\n",
    "sns.scatterplot(\n",
    "    data=df_long,\n",
    "    x='Position X',\n",
    "    y='Position Y',\n",
    "    hue='Distance Type',\n",
    "    size='Distance',\n",
    "    sizes=(10, 200),\n",
    "    alpha=0.4,             # more transparent\n",
    "    legend='brief'\n",
    ")\n",
    "plt.title(\"Cell Positions by Distance Metric\")\n",
    "plt.xlabel(\"Position X\")\n",
    "plt.ylabel(\"Position Y\")\n",
    "plt.legend(title=\"Metric\", bbox_to_anchor=(1.05, 1), loc='upper left')\n",
    "plt.tight_layout()\n",
    "plt.show()\n",
    "\n",
    "# 2) Stacked histogram of the two distance metrics\n",
    "plt.figure(figsize=(8,6))\n",
    "sns.histplot(\n",
    "    data=df_long,\n",
    "    x='Distance',\n",
    "    hue='Distance Type',\n",
    "    multiple='stack',      # stack the counts\n",
    "    bins=75,\n",
    "    alpha=0.6              # semi‑transparent bars\n",
    ")\n",
    "plt.title(\"Distribution of Distance Metrics\")\n",
    "plt.xlabel(\"Distance\")\n",
    "plt.ylabel(\"Count\")\n",
    "plt.tight_layout()\n",
    "plt.show()\n"
   ]
  },
  {
   "cell_type": "code",
   "execution_count": null,
   "id": "2bc1d7b3",
   "metadata": {},
   "outputs": [],
   "source": [
    "# cell border experimental code: \n",
    "\n",
    "import pandas as pd\n",
    "import numpy as np\n",
    "from scipy.spatial import ConvexHull\n",
    "\n",
    "# 1) Load your data\n",
    "df = test1      # columns “x” and “y”\n",
    "pts = df[['POSITION X', 'POSITION Y']].values             # shape (N,2) array\n",
    "\n",
    "# 2) Compute the convex hull\n",
    "hull = ConvexHull(pts)\n",
    "\n",
    "# hull.simplices is an (E,2) array of index pairs (i, j)\n",
    "# each representing an edge between pts[i] and pts[j].\n",
    "edges = hull.simplices\n",
    "\n",
    "# 3) Define a vectorized distance‐to‐segment function\n",
    "def point_to_segment_distances(points, seg_start, seg_end):\n",
    "    \"\"\"\n",
    "    points: (N,2) array\n",
    "    seg_start, seg_end: each (2,) array\n",
    "    returns: (N,) array of distances from each point to the segment\n",
    "    \"\"\"\n",
    "    v = seg_end - seg_start                      # (2,)\n",
    "    w = points - seg_start                       # (N,2)\n",
    "    # projection factor of each point onto the infinite line\n",
    "    t = np.einsum('ij,j->i', w, v) / np.dot(v, v)\n",
    "    # clamp to [0,1] so we “snap” to the segment\n",
    "    t_clamped = np.clip(t, 0.0, 1.0)             # (N,)\n",
    "    proj = seg_start + t_clamped[:,None] * v     # (N,2)\n",
    "    # euclidean distance from each point to its projection\n",
    "    return np.linalg.norm(points - proj, axis=1)\n",
    "\n",
    "# 4) Loop over edges, keep the minimum distance per point\n",
    "all_dists = np.full(len(pts), np.inf)\n",
    "for i, j in edges:\n",
    "    start, end = pts[i], pts[j]\n",
    "    d = point_to_segment_distances(pts, start, end)\n",
    "    all_dists = np.minimum(all_dists, d)\n",
    "\n",
    "# 5) Attach back to your DataFrame\n",
    "df['dist_to_hull'] = all_dists\n",
    "\n",
    "# 6) (Optional) Inspect\n",
    "df\n"
   ]
  }
 ],
 "metadata": {
  "kernelspec": {
   "display_name": ".venv",
   "language": "python",
   "name": "python3"
  },
  "language_info": {
   "codemirror_mode": {
    "name": "ipython",
    "version": 3
   },
   "file_extension": ".py",
   "mimetype": "text/x-python",
   "name": "python",
   "nbconvert_exporter": "python",
   "pygments_lexer": "ipython3",
   "version": "3.12.6"
  }
 },
 "nbformat": 4,
 "nbformat_minor": 5
}
